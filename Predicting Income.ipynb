{
 "cells": [
  {
   "cell_type": "markdown",
   "metadata": {},
   "source": [
    "# PREDICTING INCOME"
   ]
  },
  {
   "cell_type": "markdown",
   "metadata": {},
   "source": [
    "# Supervised Learning"
   ]
  },
  {
   "cell_type": "code",
   "execution_count": 1,
   "metadata": {},
   "outputs": [],
   "source": [
    "# Required Libraries\n",
    "\n",
    "import pandas as pd\n",
    "import numpy as np\n",
    "import seaborn as sns\n",
    "import matplotlib.pyplot as plt\n",
    "\n",
    "from sklearn.impute import SimpleImputer\n",
    "from sklearn.preprocessing import LabelEncoder \n",
    "from imblearn.over_sampling import RandomOverSampler\n",
    "from sklearn.model_selection import train_test_split\n",
    "from sklearn.ensemble import RandomForestClassifier\n",
    "from sklearn.metrics import accuracy_score, classification_report, confusion_matrix\n",
    "from sklearn.model_selection import GridSearchCV\n",
    "\n",
    "import os\n",
    "import warnings\n",
    "warnings.filterwarnings('ignore')"
   ]
  },
  {
   "cell_type": "markdown",
   "metadata": {},
   "source": [
    "### User Define Functions"
   ]
  },
  {
   "cell_type": "code",
   "execution_count": 2,
   "metadata": {},
   "outputs": [],
   "source": [
    "# Create Data audit Report for continuous variables\n",
    "def cont_summary(x):\n",
    "    return pd.Series([x.count(), x.isnull().sum(), x.sum(), x.mean(), x.median(),  \n",
    "                      x.std(), x.var(), x.min(), x.quantile(0.01), x.quantile(0.05),\n",
    "                      x.quantile(0.10),x.quantile(0.25),x.quantile(0.50),x.quantile(0.75), \n",
    "                      x.quantile(0.90),x.quantile(0.95), x.quantile(0.99),x.max()], \n",
    "                     index = ['N', 'NMISS', 'SUM', 'MEAN','MEDIAN', 'STD', 'VAR', 'MIN', 'P1',\n",
    "                              'P5' ,'P10' ,'P25' ,'P50' ,'P75' ,'P90' ,'P95' ,'P99' ,'MAX'])"
   ]
  },
  {
   "cell_type": "code",
   "execution_count": 3,
   "metadata": {},
   "outputs": [],
   "source": [
    "# Create Data audit Report for categorical variables\n",
    "def cat_summary(x):\n",
    "    Mode = x.value_counts().sort_values(ascending = False)[0:1].reset_index()\n",
    "\n",
    "    return pd.Series([x.count(), x.isnull().sum(), Mode.iloc[0, 0], Mode.iloc[0, 1], \n",
    "                      round(Mode.iloc[0, 1] * 100/x.count(), 2)], \n",
    "                     index = ['N', 'NMISS', 'MODE', 'FREQ', 'PERCENT'])"
   ]
  },
  {
   "cell_type": "code",
   "execution_count": 4,
   "metadata": {},
   "outputs": [],
   "source": [
    "def continuous_summary(x):\n",
    "    return pd.Series([x.mean(), x.median(), x.std(), x.var()], \n",
    "                     index = ['MEAN','MEDIAN', 'STD', 'VARIANCE'])"
   ]
  },
  {
   "cell_type": "markdown",
   "metadata": {},
   "source": [
    "### Data Loading and Inspection"
   ]
  },
  {
   "cell_type": "markdown",
   "metadata": {},
   "source": [
    "#### Data Attributes:\n",
    "\n",
    "1. age: continuous.\n",
    "2. workclass: Private, Self-emp-not-inc, Self-emp-inc, Federal-gov, Local-gov, State-gov, Without-pay, Never-worked.\n",
    "3. fnlwgt: continuous.\n",
    "4. education: Bachelors, Some-college, 11th, HS-grad, Prof-school, Assoc-acdm, Assoc-voc, 9th, 7th-8th, 12th, Masters, 1st-4th, 10th, Doctorate, 5th-6th, Preschool.\n",
    "5. education-num: continuous.\n",
    "6. marital-status: Married-civ-spouse, Divorced, Never-married, Separated, Widowed, Married-spouse-absent, Married-AF-spouse.\n",
    "7. occupation: Tech-support, Craft-repair, Other-service, Sales, Exec-managerial, Prof-specialty, Handlers-cleaners, Machine-op-inspct, Adm-clerical, Farming-fishing, Transport-moving, Priv-house-serv, Protective-serv, Armed-Forces.\n",
    "8. relationship: Wife, Own-child, Husband, Not-in-family, Other-relative, Unmarried.\n",
    "9. race: White, Asian-Pac-Islander, Amer-Indian-Eskimo, Other, Black.\n",
    "10. sex: Female, Male.\n",
    "11. capital-gain: continuous.\n",
    "12. capital-loss: continuous.\n",
    "13. hours-per-week: continuous.\n",
    "14. native-country: United-States, Cambodia, England, Puerto-Rico, Canada, Germany, Outlying-US(Guam-USVI-etc), India, Japan, Greece, South, China, Cuba, Iran, Honduras, Philippines, Italy, Poland, Jamaica, Vietnam, Mexico, Portugal, Ireland, France, Dominican-Republic, Laos, Ecuador, Taiwan, Haiti, Columbia, Hungary, Guatemala, Nicaragua, Scotland, Thailand, Yugoslavia, El-Salvador, Trinadad&Tobago, Peru, Hong, Holand-Netherlands\n",
    "15. salary >50K or <50K"
   ]
  },
  {
   "cell_type": "code",
   "execution_count": 5,
   "metadata": {},
   "outputs": [
    {
     "data": {
      "text/html": [
       "<div>\n",
       "<style scoped>\n",
       "    .dataframe tbody tr th:only-of-type {\n",
       "        vertical-align: middle;\n",
       "    }\n",
       "\n",
       "    .dataframe tbody tr th {\n",
       "        vertical-align: top;\n",
       "    }\n",
       "\n",
       "    .dataframe thead th {\n",
       "        text-align: right;\n",
       "    }\n",
       "</style>\n",
       "<table border=\"1\" class=\"dataframe\">\n",
       "  <thead>\n",
       "    <tr style=\"text-align: right;\">\n",
       "      <th></th>\n",
       "      <th>age</th>\n",
       "      <th>workclass</th>\n",
       "      <th>fnlwgt</th>\n",
       "      <th>education</th>\n",
       "      <th>edu-num</th>\n",
       "      <th>marital status</th>\n",
       "      <th>occupation</th>\n",
       "      <th>relationship</th>\n",
       "      <th>race</th>\n",
       "      <th>sex</th>\n",
       "      <th>capital gain</th>\n",
       "      <th>capital loss</th>\n",
       "      <th>hours per week</th>\n",
       "      <th>native country</th>\n",
       "      <th>salary</th>\n",
       "    </tr>\n",
       "  </thead>\n",
       "  <tbody>\n",
       "    <tr>\n",
       "      <th>0</th>\n",
       "      <td>39</td>\n",
       "      <td>State-gov</td>\n",
       "      <td>77516</td>\n",
       "      <td>Bachelors</td>\n",
       "      <td>13</td>\n",
       "      <td>Never-married</td>\n",
       "      <td>Adm-clerical</td>\n",
       "      <td>Not-in-family</td>\n",
       "      <td>White</td>\n",
       "      <td>Male</td>\n",
       "      <td>2174</td>\n",
       "      <td>0</td>\n",
       "      <td>40</td>\n",
       "      <td>United-States</td>\n",
       "      <td>&lt;=50K</td>\n",
       "    </tr>\n",
       "    <tr>\n",
       "      <th>1</th>\n",
       "      <td>50</td>\n",
       "      <td>Self-emp-not-inc</td>\n",
       "      <td>83311</td>\n",
       "      <td>Bachelors</td>\n",
       "      <td>13</td>\n",
       "      <td>Married-civ-spouse</td>\n",
       "      <td>Exec-managerial</td>\n",
       "      <td>Husband</td>\n",
       "      <td>White</td>\n",
       "      <td>Male</td>\n",
       "      <td>0</td>\n",
       "      <td>0</td>\n",
       "      <td>13</td>\n",
       "      <td>United-States</td>\n",
       "      <td>&lt;=50K</td>\n",
       "    </tr>\n",
       "    <tr>\n",
       "      <th>2</th>\n",
       "      <td>38</td>\n",
       "      <td>Private</td>\n",
       "      <td>215646</td>\n",
       "      <td>HS-grad</td>\n",
       "      <td>9</td>\n",
       "      <td>Divorced</td>\n",
       "      <td>Handlers-cleaners</td>\n",
       "      <td>Not-in-family</td>\n",
       "      <td>White</td>\n",
       "      <td>Male</td>\n",
       "      <td>0</td>\n",
       "      <td>0</td>\n",
       "      <td>40</td>\n",
       "      <td>United-States</td>\n",
       "      <td>&lt;=50K</td>\n",
       "    </tr>\n",
       "    <tr>\n",
       "      <th>3</th>\n",
       "      <td>53</td>\n",
       "      <td>Private</td>\n",
       "      <td>234721</td>\n",
       "      <td>11th</td>\n",
       "      <td>7</td>\n",
       "      <td>Married-civ-spouse</td>\n",
       "      <td>Handlers-cleaners</td>\n",
       "      <td>Husband</td>\n",
       "      <td>Black</td>\n",
       "      <td>Male</td>\n",
       "      <td>0</td>\n",
       "      <td>0</td>\n",
       "      <td>40</td>\n",
       "      <td>United-States</td>\n",
       "      <td>&lt;=50K</td>\n",
       "    </tr>\n",
       "    <tr>\n",
       "      <th>4</th>\n",
       "      <td>28</td>\n",
       "      <td>Private</td>\n",
       "      <td>338409</td>\n",
       "      <td>Bachelors</td>\n",
       "      <td>13</td>\n",
       "      <td>Married-civ-spouse</td>\n",
       "      <td>Prof-specialty</td>\n",
       "      <td>Wife</td>\n",
       "      <td>Black</td>\n",
       "      <td>Female</td>\n",
       "      <td>0</td>\n",
       "      <td>0</td>\n",
       "      <td>40</td>\n",
       "      <td>Cuba</td>\n",
       "      <td>&lt;=50K</td>\n",
       "    </tr>\n",
       "  </tbody>\n",
       "</table>\n",
       "</div>"
      ],
      "text/plain": [
       "   age         workclass  fnlwgt  education  edu-num      marital status  \\\n",
       "0   39         State-gov   77516  Bachelors       13       Never-married   \n",
       "1   50  Self-emp-not-inc   83311  Bachelors       13  Married-civ-spouse   \n",
       "2   38           Private  215646    HS-grad        9            Divorced   \n",
       "3   53           Private  234721       11th        7  Married-civ-spouse   \n",
       "4   28           Private  338409  Bachelors       13  Married-civ-spouse   \n",
       "\n",
       "          occupation   relationship   race     sex  capital gain  \\\n",
       "0       Adm-clerical  Not-in-family  White    Male          2174   \n",
       "1    Exec-managerial        Husband  White    Male             0   \n",
       "2  Handlers-cleaners  Not-in-family  White    Male             0   \n",
       "3  Handlers-cleaners        Husband  Black    Male             0   \n",
       "4     Prof-specialty           Wife  Black  Female             0   \n",
       "\n",
       "   capital loss  hours per week native country salary  \n",
       "0             0              40  United-States  <=50K  \n",
       "1             0              13  United-States  <=50K  \n",
       "2             0              40  United-States  <=50K  \n",
       "3             0              40  United-States  <=50K  \n",
       "4             0              40           Cuba  <=50K  "
      ]
     },
     "execution_count": 5,
     "metadata": {},
     "output_type": "execute_result"
    }
   ],
   "source": [
    "data = pd.read_csv(r'C:\\Users\\nidhi\\AML_1104_2_LABs\\adult.data.csv', na_values = '?')\n",
    "data.head(5)"
   ]
  },
  {
   "cell_type": "code",
   "execution_count": 6,
   "metadata": {},
   "outputs": [
    {
     "data": {
      "text/html": [
       "<div>\n",
       "<style scoped>\n",
       "    .dataframe tbody tr th:only-of-type {\n",
       "        vertical-align: middle;\n",
       "    }\n",
       "\n",
       "    .dataframe tbody tr th {\n",
       "        vertical-align: top;\n",
       "    }\n",
       "\n",
       "    .dataframe thead th {\n",
       "        text-align: right;\n",
       "    }\n",
       "</style>\n",
       "<table border=\"1\" class=\"dataframe\">\n",
       "  <thead>\n",
       "    <tr style=\"text-align: right;\">\n",
       "      <th></th>\n",
       "      <th>age</th>\n",
       "      <th>workclass</th>\n",
       "      <th>fnlwgt</th>\n",
       "      <th>education</th>\n",
       "      <th>edu-num</th>\n",
       "      <th>marital_status</th>\n",
       "      <th>occupation</th>\n",
       "      <th>relationship</th>\n",
       "      <th>race</th>\n",
       "      <th>sex</th>\n",
       "      <th>capital_gain</th>\n",
       "      <th>capital_loss</th>\n",
       "      <th>hours_per_week</th>\n",
       "      <th>native_country</th>\n",
       "      <th>salary</th>\n",
       "    </tr>\n",
       "  </thead>\n",
       "  <tbody>\n",
       "    <tr>\n",
       "      <th>0</th>\n",
       "      <td>39</td>\n",
       "      <td>State-gov</td>\n",
       "      <td>77516</td>\n",
       "      <td>Bachelors</td>\n",
       "      <td>13</td>\n",
       "      <td>Never-married</td>\n",
       "      <td>Adm-clerical</td>\n",
       "      <td>Not-in-family</td>\n",
       "      <td>White</td>\n",
       "      <td>Male</td>\n",
       "      <td>2174</td>\n",
       "      <td>0</td>\n",
       "      <td>40</td>\n",
       "      <td>United-States</td>\n",
       "      <td>&lt;=50K</td>\n",
       "    </tr>\n",
       "    <tr>\n",
       "      <th>1</th>\n",
       "      <td>50</td>\n",
       "      <td>Self-emp-not-inc</td>\n",
       "      <td>83311</td>\n",
       "      <td>Bachelors</td>\n",
       "      <td>13</td>\n",
       "      <td>Married-civ-spouse</td>\n",
       "      <td>Exec-managerial</td>\n",
       "      <td>Husband</td>\n",
       "      <td>White</td>\n",
       "      <td>Male</td>\n",
       "      <td>0</td>\n",
       "      <td>0</td>\n",
       "      <td>13</td>\n",
       "      <td>United-States</td>\n",
       "      <td>&lt;=50K</td>\n",
       "    </tr>\n",
       "    <tr>\n",
       "      <th>2</th>\n",
       "      <td>38</td>\n",
       "      <td>Private</td>\n",
       "      <td>215646</td>\n",
       "      <td>HS-grad</td>\n",
       "      <td>9</td>\n",
       "      <td>Divorced</td>\n",
       "      <td>Handlers-cleaners</td>\n",
       "      <td>Not-in-family</td>\n",
       "      <td>White</td>\n",
       "      <td>Male</td>\n",
       "      <td>0</td>\n",
       "      <td>0</td>\n",
       "      <td>40</td>\n",
       "      <td>United-States</td>\n",
       "      <td>&lt;=50K</td>\n",
       "    </tr>\n",
       "    <tr>\n",
       "      <th>3</th>\n",
       "      <td>53</td>\n",
       "      <td>Private</td>\n",
       "      <td>234721</td>\n",
       "      <td>11th</td>\n",
       "      <td>7</td>\n",
       "      <td>Married-civ-spouse</td>\n",
       "      <td>Handlers-cleaners</td>\n",
       "      <td>Husband</td>\n",
       "      <td>Black</td>\n",
       "      <td>Male</td>\n",
       "      <td>0</td>\n",
       "      <td>0</td>\n",
       "      <td>40</td>\n",
       "      <td>United-States</td>\n",
       "      <td>&lt;=50K</td>\n",
       "    </tr>\n",
       "    <tr>\n",
       "      <th>4</th>\n",
       "      <td>28</td>\n",
       "      <td>Private</td>\n",
       "      <td>338409</td>\n",
       "      <td>Bachelors</td>\n",
       "      <td>13</td>\n",
       "      <td>Married-civ-spouse</td>\n",
       "      <td>Prof-specialty</td>\n",
       "      <td>Wife</td>\n",
       "      <td>Black</td>\n",
       "      <td>Female</td>\n",
       "      <td>0</td>\n",
       "      <td>0</td>\n",
       "      <td>40</td>\n",
       "      <td>Cuba</td>\n",
       "      <td>&lt;=50K</td>\n",
       "    </tr>\n",
       "  </tbody>\n",
       "</table>\n",
       "</div>"
      ],
      "text/plain": [
       "   age         workclass  fnlwgt  education  edu-num      marital_status  \\\n",
       "0   39         State-gov   77516  Bachelors       13       Never-married   \n",
       "1   50  Self-emp-not-inc   83311  Bachelors       13  Married-civ-spouse   \n",
       "2   38           Private  215646    HS-grad        9            Divorced   \n",
       "3   53           Private  234721       11th        7  Married-civ-spouse   \n",
       "4   28           Private  338409  Bachelors       13  Married-civ-spouse   \n",
       "\n",
       "          occupation   relationship   race     sex  capital_gain  \\\n",
       "0       Adm-clerical  Not-in-family  White    Male          2174   \n",
       "1    Exec-managerial        Husband  White    Male             0   \n",
       "2  Handlers-cleaners  Not-in-family  White    Male             0   \n",
       "3  Handlers-cleaners        Husband  Black    Male             0   \n",
       "4     Prof-specialty           Wife  Black  Female             0   \n",
       "\n",
       "   capital_loss  hours_per_week native_country salary  \n",
       "0             0              40  United-States  <=50K  \n",
       "1             0              13  United-States  <=50K  \n",
       "2             0              40  United-States  <=50K  \n",
       "3             0              40  United-States  <=50K  \n",
       "4             0              40           Cuba  <=50K  "
      ]
     },
     "execution_count": 6,
     "metadata": {},
     "output_type": "execute_result"
    }
   ],
   "source": [
    "# setting column names\n",
    "data.columns = ['age', 'workclass', 'fnlwgt', 'education', 'edu-num', 'marital_status', 'occupation', 'relationship', 'race', 'sex', 'capital_gain', 'capital_loss', 'hours_per_week', 'native_country', 'salary']\n",
    "data.head(5)"
   ]
  },
  {
   "cell_type": "code",
   "execution_count": 7,
   "metadata": {},
   "outputs": [
    {
     "name": "stdout",
     "output_type": "stream",
     "text": [
      "<class 'pandas.core.frame.DataFrame'>\n",
      "RangeIndex: 32561 entries, 0 to 32560\n",
      "Data columns (total 15 columns):\n",
      " #   Column          Non-Null Count  Dtype \n",
      "---  ------          --------------  ----- \n",
      " 0   age             32561 non-null  int64 \n",
      " 1   workclass       30725 non-null  object\n",
      " 2   fnlwgt          32561 non-null  int64 \n",
      " 3   education       32561 non-null  object\n",
      " 4   edu-num         32561 non-null  int64 \n",
      " 5   marital_status  32561 non-null  object\n",
      " 6   occupation      30718 non-null  object\n",
      " 7   relationship    32561 non-null  object\n",
      " 8   race            32561 non-null  object\n",
      " 9   sex             32561 non-null  object\n",
      " 10  capital_gain    32561 non-null  int64 \n",
      " 11  capital_loss    32561 non-null  int64 \n",
      " 12  hours_per_week  32561 non-null  int64 \n",
      " 13  native_country  31978 non-null  object\n",
      " 14  salary          32561 non-null  object\n",
      "dtypes: int64(6), object(9)\n",
      "memory usage: 3.7+ MB\n"
     ]
    }
   ],
   "source": [
    "data.info()"
   ]
  },
  {
   "cell_type": "code",
   "execution_count": 8,
   "metadata": {},
   "outputs": [
    {
     "data": {
      "text/html": [
       "<div>\n",
       "<style scoped>\n",
       "    .dataframe tbody tr th:only-of-type {\n",
       "        vertical-align: middle;\n",
       "    }\n",
       "\n",
       "    .dataframe tbody tr th {\n",
       "        vertical-align: top;\n",
       "    }\n",
       "\n",
       "    .dataframe thead th {\n",
       "        text-align: right;\n",
       "    }\n",
       "</style>\n",
       "<table border=\"1\" class=\"dataframe\">\n",
       "  <thead>\n",
       "    <tr style=\"text-align: right;\">\n",
       "      <th></th>\n",
       "      <th>age</th>\n",
       "      <th>workclass</th>\n",
       "      <th>fnlwgt</th>\n",
       "      <th>education</th>\n",
       "      <th>edu-num</th>\n",
       "      <th>marital_status</th>\n",
       "      <th>occupation</th>\n",
       "      <th>relationship</th>\n",
       "      <th>race</th>\n",
       "      <th>sex</th>\n",
       "      <th>capital_gain</th>\n",
       "      <th>capital_loss</th>\n",
       "      <th>hours_per_week</th>\n",
       "      <th>native_country</th>\n",
       "      <th>salary</th>\n",
       "    </tr>\n",
       "  </thead>\n",
       "  <tbody>\n",
       "    <tr>\n",
       "      <th>count</th>\n",
       "      <td>32561.000000</td>\n",
       "      <td>30725</td>\n",
       "      <td>3.256100e+04</td>\n",
       "      <td>32561</td>\n",
       "      <td>32561.000000</td>\n",
       "      <td>32561</td>\n",
       "      <td>30718</td>\n",
       "      <td>32561</td>\n",
       "      <td>32561</td>\n",
       "      <td>32561</td>\n",
       "      <td>32561.000000</td>\n",
       "      <td>32561.000000</td>\n",
       "      <td>32561.000000</td>\n",
       "      <td>31978</td>\n",
       "      <td>32561</td>\n",
       "    </tr>\n",
       "    <tr>\n",
       "      <th>unique</th>\n",
       "      <td>NaN</td>\n",
       "      <td>8</td>\n",
       "      <td>NaN</td>\n",
       "      <td>16</td>\n",
       "      <td>NaN</td>\n",
       "      <td>7</td>\n",
       "      <td>14</td>\n",
       "      <td>6</td>\n",
       "      <td>5</td>\n",
       "      <td>2</td>\n",
       "      <td>NaN</td>\n",
       "      <td>NaN</td>\n",
       "      <td>NaN</td>\n",
       "      <td>41</td>\n",
       "      <td>2</td>\n",
       "    </tr>\n",
       "    <tr>\n",
       "      <th>top</th>\n",
       "      <td>NaN</td>\n",
       "      <td>Private</td>\n",
       "      <td>NaN</td>\n",
       "      <td>HS-grad</td>\n",
       "      <td>NaN</td>\n",
       "      <td>Married-civ-spouse</td>\n",
       "      <td>Prof-specialty</td>\n",
       "      <td>Husband</td>\n",
       "      <td>White</td>\n",
       "      <td>Male</td>\n",
       "      <td>NaN</td>\n",
       "      <td>NaN</td>\n",
       "      <td>NaN</td>\n",
       "      <td>United-States</td>\n",
       "      <td>&lt;=50K</td>\n",
       "    </tr>\n",
       "    <tr>\n",
       "      <th>freq</th>\n",
       "      <td>NaN</td>\n",
       "      <td>22696</td>\n",
       "      <td>NaN</td>\n",
       "      <td>10501</td>\n",
       "      <td>NaN</td>\n",
       "      <td>14976</td>\n",
       "      <td>4140</td>\n",
       "      <td>13193</td>\n",
       "      <td>27816</td>\n",
       "      <td>21790</td>\n",
       "      <td>NaN</td>\n",
       "      <td>NaN</td>\n",
       "      <td>NaN</td>\n",
       "      <td>29170</td>\n",
       "      <td>24720</td>\n",
       "    </tr>\n",
       "    <tr>\n",
       "      <th>mean</th>\n",
       "      <td>38.581647</td>\n",
       "      <td>NaN</td>\n",
       "      <td>1.897784e+05</td>\n",
       "      <td>NaN</td>\n",
       "      <td>10.080679</td>\n",
       "      <td>NaN</td>\n",
       "      <td>NaN</td>\n",
       "      <td>NaN</td>\n",
       "      <td>NaN</td>\n",
       "      <td>NaN</td>\n",
       "      <td>1077.648844</td>\n",
       "      <td>87.303830</td>\n",
       "      <td>40.437456</td>\n",
       "      <td>NaN</td>\n",
       "      <td>NaN</td>\n",
       "    </tr>\n",
       "    <tr>\n",
       "      <th>std</th>\n",
       "      <td>13.640433</td>\n",
       "      <td>NaN</td>\n",
       "      <td>1.055500e+05</td>\n",
       "      <td>NaN</td>\n",
       "      <td>2.572720</td>\n",
       "      <td>NaN</td>\n",
       "      <td>NaN</td>\n",
       "      <td>NaN</td>\n",
       "      <td>NaN</td>\n",
       "      <td>NaN</td>\n",
       "      <td>7385.292085</td>\n",
       "      <td>402.960219</td>\n",
       "      <td>12.347429</td>\n",
       "      <td>NaN</td>\n",
       "      <td>NaN</td>\n",
       "    </tr>\n",
       "    <tr>\n",
       "      <th>min</th>\n",
       "      <td>17.000000</td>\n",
       "      <td>NaN</td>\n",
       "      <td>1.228500e+04</td>\n",
       "      <td>NaN</td>\n",
       "      <td>1.000000</td>\n",
       "      <td>NaN</td>\n",
       "      <td>NaN</td>\n",
       "      <td>NaN</td>\n",
       "      <td>NaN</td>\n",
       "      <td>NaN</td>\n",
       "      <td>0.000000</td>\n",
       "      <td>0.000000</td>\n",
       "      <td>1.000000</td>\n",
       "      <td>NaN</td>\n",
       "      <td>NaN</td>\n",
       "    </tr>\n",
       "    <tr>\n",
       "      <th>25%</th>\n",
       "      <td>28.000000</td>\n",
       "      <td>NaN</td>\n",
       "      <td>1.178270e+05</td>\n",
       "      <td>NaN</td>\n",
       "      <td>9.000000</td>\n",
       "      <td>NaN</td>\n",
       "      <td>NaN</td>\n",
       "      <td>NaN</td>\n",
       "      <td>NaN</td>\n",
       "      <td>NaN</td>\n",
       "      <td>0.000000</td>\n",
       "      <td>0.000000</td>\n",
       "      <td>40.000000</td>\n",
       "      <td>NaN</td>\n",
       "      <td>NaN</td>\n",
       "    </tr>\n",
       "    <tr>\n",
       "      <th>50%</th>\n",
       "      <td>37.000000</td>\n",
       "      <td>NaN</td>\n",
       "      <td>1.783560e+05</td>\n",
       "      <td>NaN</td>\n",
       "      <td>10.000000</td>\n",
       "      <td>NaN</td>\n",
       "      <td>NaN</td>\n",
       "      <td>NaN</td>\n",
       "      <td>NaN</td>\n",
       "      <td>NaN</td>\n",
       "      <td>0.000000</td>\n",
       "      <td>0.000000</td>\n",
       "      <td>40.000000</td>\n",
       "      <td>NaN</td>\n",
       "      <td>NaN</td>\n",
       "    </tr>\n",
       "    <tr>\n",
       "      <th>75%</th>\n",
       "      <td>48.000000</td>\n",
       "      <td>NaN</td>\n",
       "      <td>2.370510e+05</td>\n",
       "      <td>NaN</td>\n",
       "      <td>12.000000</td>\n",
       "      <td>NaN</td>\n",
       "      <td>NaN</td>\n",
       "      <td>NaN</td>\n",
       "      <td>NaN</td>\n",
       "      <td>NaN</td>\n",
       "      <td>0.000000</td>\n",
       "      <td>0.000000</td>\n",
       "      <td>45.000000</td>\n",
       "      <td>NaN</td>\n",
       "      <td>NaN</td>\n",
       "    </tr>\n",
       "    <tr>\n",
       "      <th>max</th>\n",
       "      <td>90.000000</td>\n",
       "      <td>NaN</td>\n",
       "      <td>1.484705e+06</td>\n",
       "      <td>NaN</td>\n",
       "      <td>16.000000</td>\n",
       "      <td>NaN</td>\n",
       "      <td>NaN</td>\n",
       "      <td>NaN</td>\n",
       "      <td>NaN</td>\n",
       "      <td>NaN</td>\n",
       "      <td>99999.000000</td>\n",
       "      <td>4356.000000</td>\n",
       "      <td>99.000000</td>\n",
       "      <td>NaN</td>\n",
       "      <td>NaN</td>\n",
       "    </tr>\n",
       "  </tbody>\n",
       "</table>\n",
       "</div>"
      ],
      "text/plain": [
       "                 age workclass        fnlwgt education       edu-num  \\\n",
       "count   32561.000000     30725  3.256100e+04     32561  32561.000000   \n",
       "unique           NaN         8           NaN        16           NaN   \n",
       "top              NaN   Private           NaN   HS-grad           NaN   \n",
       "freq             NaN     22696           NaN     10501           NaN   \n",
       "mean       38.581647       NaN  1.897784e+05       NaN     10.080679   \n",
       "std        13.640433       NaN  1.055500e+05       NaN      2.572720   \n",
       "min        17.000000       NaN  1.228500e+04       NaN      1.000000   \n",
       "25%        28.000000       NaN  1.178270e+05       NaN      9.000000   \n",
       "50%        37.000000       NaN  1.783560e+05       NaN     10.000000   \n",
       "75%        48.000000       NaN  2.370510e+05       NaN     12.000000   \n",
       "max        90.000000       NaN  1.484705e+06       NaN     16.000000   \n",
       "\n",
       "            marital_status      occupation relationship   race    sex  \\\n",
       "count                32561           30718        32561  32561  32561   \n",
       "unique                   7              14            6      5      2   \n",
       "top     Married-civ-spouse  Prof-specialty      Husband  White   Male   \n",
       "freq                 14976            4140        13193  27816  21790   \n",
       "mean                   NaN             NaN          NaN    NaN    NaN   \n",
       "std                    NaN             NaN          NaN    NaN    NaN   \n",
       "min                    NaN             NaN          NaN    NaN    NaN   \n",
       "25%                    NaN             NaN          NaN    NaN    NaN   \n",
       "50%                    NaN             NaN          NaN    NaN    NaN   \n",
       "75%                    NaN             NaN          NaN    NaN    NaN   \n",
       "max                    NaN             NaN          NaN    NaN    NaN   \n",
       "\n",
       "        capital_gain  capital_loss  hours_per_week native_country salary  \n",
       "count   32561.000000  32561.000000    32561.000000          31978  32561  \n",
       "unique           NaN           NaN             NaN             41      2  \n",
       "top              NaN           NaN             NaN  United-States  <=50K  \n",
       "freq             NaN           NaN             NaN          29170  24720  \n",
       "mean     1077.648844     87.303830       40.437456            NaN    NaN  \n",
       "std      7385.292085    402.960219       12.347429            NaN    NaN  \n",
       "min         0.000000      0.000000        1.000000            NaN    NaN  \n",
       "25%         0.000000      0.000000       40.000000            NaN    NaN  \n",
       "50%         0.000000      0.000000       40.000000            NaN    NaN  \n",
       "75%         0.000000      0.000000       45.000000            NaN    NaN  \n",
       "max     99999.000000   4356.000000       99.000000            NaN    NaN  "
      ]
     },
     "execution_count": 8,
     "metadata": {},
     "output_type": "execute_result"
    }
   ],
   "source": [
    "# gives result for numerical data only\n",
    "data.describe(include='all')"
   ]
  },
  {
   "cell_type": "code",
   "execution_count": 9,
   "metadata": {},
   "outputs": [
    {
     "data": {
      "text/html": [
       "<div>\n",
       "<style scoped>\n",
       "    .dataframe tbody tr th:only-of-type {\n",
       "        vertical-align: middle;\n",
       "    }\n",
       "\n",
       "    .dataframe tbody tr th {\n",
       "        vertical-align: top;\n",
       "    }\n",
       "\n",
       "    .dataframe thead th {\n",
       "        text-align: right;\n",
       "    }\n",
       "</style>\n",
       "<table border=\"1\" class=\"dataframe\">\n",
       "  <thead>\n",
       "    <tr style=\"text-align: right;\">\n",
       "      <th></th>\n",
       "      <th>age</th>\n",
       "      <th>fnlwgt</th>\n",
       "      <th>edu-num</th>\n",
       "      <th>capital_gain</th>\n",
       "      <th>capital_loss</th>\n",
       "      <th>hours_per_week</th>\n",
       "    </tr>\n",
       "  </thead>\n",
       "  <tbody>\n",
       "    <tr>\n",
       "      <th>N</th>\n",
       "      <td>3.256100e+04</td>\n",
       "      <td>3.256100e+04</td>\n",
       "      <td>32561.000000</td>\n",
       "      <td>3.256100e+04</td>\n",
       "      <td>3.256100e+04</td>\n",
       "      <td>3.256100e+04</td>\n",
       "    </tr>\n",
       "    <tr>\n",
       "      <th>NMISS</th>\n",
       "      <td>0.000000e+00</td>\n",
       "      <td>0.000000e+00</td>\n",
       "      <td>0.000000</td>\n",
       "      <td>0.000000e+00</td>\n",
       "      <td>0.000000e+00</td>\n",
       "      <td>0.000000e+00</td>\n",
       "    </tr>\n",
       "    <tr>\n",
       "      <th>SUM</th>\n",
       "      <td>1.256257e+06</td>\n",
       "      <td>6.179373e+09</td>\n",
       "      <td>328237.000000</td>\n",
       "      <td>3.508932e+07</td>\n",
       "      <td>2.842700e+06</td>\n",
       "      <td>1.316684e+06</td>\n",
       "    </tr>\n",
       "    <tr>\n",
       "      <th>MEAN</th>\n",
       "      <td>3.858165e+01</td>\n",
       "      <td>1.897784e+05</td>\n",
       "      <td>10.080679</td>\n",
       "      <td>1.077649e+03</td>\n",
       "      <td>8.730383e+01</td>\n",
       "      <td>4.043746e+01</td>\n",
       "    </tr>\n",
       "    <tr>\n",
       "      <th>MEDIAN</th>\n",
       "      <td>3.700000e+01</td>\n",
       "      <td>1.783560e+05</td>\n",
       "      <td>10.000000</td>\n",
       "      <td>0.000000e+00</td>\n",
       "      <td>0.000000e+00</td>\n",
       "      <td>4.000000e+01</td>\n",
       "    </tr>\n",
       "    <tr>\n",
       "      <th>STD</th>\n",
       "      <td>1.364043e+01</td>\n",
       "      <td>1.055500e+05</td>\n",
       "      <td>2.572720</td>\n",
       "      <td>7.385292e+03</td>\n",
       "      <td>4.029602e+02</td>\n",
       "      <td>1.234743e+01</td>\n",
       "    </tr>\n",
       "    <tr>\n",
       "      <th>VAR</th>\n",
       "      <td>1.860614e+02</td>\n",
       "      <td>1.114080e+10</td>\n",
       "      <td>6.618890</td>\n",
       "      <td>5.454254e+07</td>\n",
       "      <td>1.623769e+05</td>\n",
       "      <td>1.524590e+02</td>\n",
       "    </tr>\n",
       "    <tr>\n",
       "      <th>MIN</th>\n",
       "      <td>1.700000e+01</td>\n",
       "      <td>1.228500e+04</td>\n",
       "      <td>1.000000</td>\n",
       "      <td>0.000000e+00</td>\n",
       "      <td>0.000000e+00</td>\n",
       "      <td>1.000000e+00</td>\n",
       "    </tr>\n",
       "    <tr>\n",
       "      <th>P1</th>\n",
       "      <td>1.700000e+01</td>\n",
       "      <td>2.718580e+04</td>\n",
       "      <td>3.000000</td>\n",
       "      <td>0.000000e+00</td>\n",
       "      <td>0.000000e+00</td>\n",
       "      <td>8.000000e+00</td>\n",
       "    </tr>\n",
       "    <tr>\n",
       "      <th>P5</th>\n",
       "      <td>1.900000e+01</td>\n",
       "      <td>3.946000e+04</td>\n",
       "      <td>5.000000</td>\n",
       "      <td>0.000000e+00</td>\n",
       "      <td>0.000000e+00</td>\n",
       "      <td>1.800000e+01</td>\n",
       "    </tr>\n",
       "    <tr>\n",
       "      <th>P10</th>\n",
       "      <td>2.200000e+01</td>\n",
       "      <td>6.571600e+04</td>\n",
       "      <td>7.000000</td>\n",
       "      <td>0.000000e+00</td>\n",
       "      <td>0.000000e+00</td>\n",
       "      <td>2.400000e+01</td>\n",
       "    </tr>\n",
       "    <tr>\n",
       "      <th>P25</th>\n",
       "      <td>2.800000e+01</td>\n",
       "      <td>1.178270e+05</td>\n",
       "      <td>9.000000</td>\n",
       "      <td>0.000000e+00</td>\n",
       "      <td>0.000000e+00</td>\n",
       "      <td>4.000000e+01</td>\n",
       "    </tr>\n",
       "    <tr>\n",
       "      <th>P50</th>\n",
       "      <td>3.700000e+01</td>\n",
       "      <td>1.783560e+05</td>\n",
       "      <td>10.000000</td>\n",
       "      <td>0.000000e+00</td>\n",
       "      <td>0.000000e+00</td>\n",
       "      <td>4.000000e+01</td>\n",
       "    </tr>\n",
       "    <tr>\n",
       "      <th>P75</th>\n",
       "      <td>4.800000e+01</td>\n",
       "      <td>2.370510e+05</td>\n",
       "      <td>12.000000</td>\n",
       "      <td>0.000000e+00</td>\n",
       "      <td>0.000000e+00</td>\n",
       "      <td>4.500000e+01</td>\n",
       "    </tr>\n",
       "    <tr>\n",
       "      <th>P90</th>\n",
       "      <td>5.800000e+01</td>\n",
       "      <td>3.290540e+05</td>\n",
       "      <td>13.000000</td>\n",
       "      <td>0.000000e+00</td>\n",
       "      <td>0.000000e+00</td>\n",
       "      <td>5.500000e+01</td>\n",
       "    </tr>\n",
       "    <tr>\n",
       "      <th>P95</th>\n",
       "      <td>6.300000e+01</td>\n",
       "      <td>3.796820e+05</td>\n",
       "      <td>14.000000</td>\n",
       "      <td>5.013000e+03</td>\n",
       "      <td>0.000000e+00</td>\n",
       "      <td>6.000000e+01</td>\n",
       "    </tr>\n",
       "    <tr>\n",
       "      <th>P99</th>\n",
       "      <td>7.400000e+01</td>\n",
       "      <td>5.100720e+05</td>\n",
       "      <td>16.000000</td>\n",
       "      <td>1.502400e+04</td>\n",
       "      <td>1.980000e+03</td>\n",
       "      <td>8.000000e+01</td>\n",
       "    </tr>\n",
       "    <tr>\n",
       "      <th>MAX</th>\n",
       "      <td>9.000000e+01</td>\n",
       "      <td>1.484705e+06</td>\n",
       "      <td>16.000000</td>\n",
       "      <td>9.999900e+04</td>\n",
       "      <td>4.356000e+03</td>\n",
       "      <td>9.900000e+01</td>\n",
       "    </tr>\n",
       "  </tbody>\n",
       "</table>\n",
       "</div>"
      ],
      "text/plain": [
       "                 age        fnlwgt        edu-num  capital_gain  capital_loss  \\\n",
       "N       3.256100e+04  3.256100e+04   32561.000000  3.256100e+04  3.256100e+04   \n",
       "NMISS   0.000000e+00  0.000000e+00       0.000000  0.000000e+00  0.000000e+00   \n",
       "SUM     1.256257e+06  6.179373e+09  328237.000000  3.508932e+07  2.842700e+06   \n",
       "MEAN    3.858165e+01  1.897784e+05      10.080679  1.077649e+03  8.730383e+01   \n",
       "MEDIAN  3.700000e+01  1.783560e+05      10.000000  0.000000e+00  0.000000e+00   \n",
       "STD     1.364043e+01  1.055500e+05       2.572720  7.385292e+03  4.029602e+02   \n",
       "VAR     1.860614e+02  1.114080e+10       6.618890  5.454254e+07  1.623769e+05   \n",
       "MIN     1.700000e+01  1.228500e+04       1.000000  0.000000e+00  0.000000e+00   \n",
       "P1      1.700000e+01  2.718580e+04       3.000000  0.000000e+00  0.000000e+00   \n",
       "P5      1.900000e+01  3.946000e+04       5.000000  0.000000e+00  0.000000e+00   \n",
       "P10     2.200000e+01  6.571600e+04       7.000000  0.000000e+00  0.000000e+00   \n",
       "P25     2.800000e+01  1.178270e+05       9.000000  0.000000e+00  0.000000e+00   \n",
       "P50     3.700000e+01  1.783560e+05      10.000000  0.000000e+00  0.000000e+00   \n",
       "P75     4.800000e+01  2.370510e+05      12.000000  0.000000e+00  0.000000e+00   \n",
       "P90     5.800000e+01  3.290540e+05      13.000000  0.000000e+00  0.000000e+00   \n",
       "P95     6.300000e+01  3.796820e+05      14.000000  5.013000e+03  0.000000e+00   \n",
       "P99     7.400000e+01  5.100720e+05      16.000000  1.502400e+04  1.980000e+03   \n",
       "MAX     9.000000e+01  1.484705e+06      16.000000  9.999900e+04  4.356000e+03   \n",
       "\n",
       "        hours_per_week  \n",
       "N         3.256100e+04  \n",
       "NMISS     0.000000e+00  \n",
       "SUM       1.316684e+06  \n",
       "MEAN      4.043746e+01  \n",
       "MEDIAN    4.000000e+01  \n",
       "STD       1.234743e+01  \n",
       "VAR       1.524590e+02  \n",
       "MIN       1.000000e+00  \n",
       "P1        8.000000e+00  \n",
       "P5        1.800000e+01  \n",
       "P10       2.400000e+01  \n",
       "P25       4.000000e+01  \n",
       "P50       4.000000e+01  \n",
       "P75       4.500000e+01  \n",
       "P90       5.500000e+01  \n",
       "P95       6.000000e+01  \n",
       "P99       8.000000e+01  \n",
       "MAX       9.900000e+01  "
      ]
     },
     "execution_count": 9,
     "metadata": {},
     "output_type": "execute_result"
    }
   ],
   "source": [
    "# For continuous data\n",
    "data.select_dtypes(include='int64').apply(cont_summary)"
   ]
  },
  {
   "cell_type": "code",
   "execution_count": 10,
   "metadata": {},
   "outputs": [
    {
     "data": {
      "text/html": [
       "<div>\n",
       "<style scoped>\n",
       "    .dataframe tbody tr th:only-of-type {\n",
       "        vertical-align: middle;\n",
       "    }\n",
       "\n",
       "    .dataframe tbody tr th {\n",
       "        vertical-align: top;\n",
       "    }\n",
       "\n",
       "    .dataframe thead th {\n",
       "        text-align: right;\n",
       "    }\n",
       "</style>\n",
       "<table border=\"1\" class=\"dataframe\">\n",
       "  <thead>\n",
       "    <tr style=\"text-align: right;\">\n",
       "      <th></th>\n",
       "      <th>workclass</th>\n",
       "      <th>education</th>\n",
       "      <th>marital_status</th>\n",
       "      <th>occupation</th>\n",
       "      <th>relationship</th>\n",
       "      <th>race</th>\n",
       "      <th>sex</th>\n",
       "      <th>native_country</th>\n",
       "      <th>salary</th>\n",
       "    </tr>\n",
       "  </thead>\n",
       "  <tbody>\n",
       "    <tr>\n",
       "      <th>N</th>\n",
       "      <td>30725</td>\n",
       "      <td>32561</td>\n",
       "      <td>32561</td>\n",
       "      <td>30718</td>\n",
       "      <td>32561</td>\n",
       "      <td>32561</td>\n",
       "      <td>32561</td>\n",
       "      <td>31978</td>\n",
       "      <td>32561</td>\n",
       "    </tr>\n",
       "    <tr>\n",
       "      <th>NMISS</th>\n",
       "      <td>1836</td>\n",
       "      <td>0</td>\n",
       "      <td>0</td>\n",
       "      <td>1843</td>\n",
       "      <td>0</td>\n",
       "      <td>0</td>\n",
       "      <td>0</td>\n",
       "      <td>583</td>\n",
       "      <td>0</td>\n",
       "    </tr>\n",
       "    <tr>\n",
       "      <th>MODE</th>\n",
       "      <td>Private</td>\n",
       "      <td>HS-grad</td>\n",
       "      <td>Married-civ-spouse</td>\n",
       "      <td>Prof-specialty</td>\n",
       "      <td>Husband</td>\n",
       "      <td>White</td>\n",
       "      <td>Male</td>\n",
       "      <td>United-States</td>\n",
       "      <td>&lt;=50K</td>\n",
       "    </tr>\n",
       "    <tr>\n",
       "      <th>FREQ</th>\n",
       "      <td>22696</td>\n",
       "      <td>10501</td>\n",
       "      <td>14976</td>\n",
       "      <td>4140</td>\n",
       "      <td>13193</td>\n",
       "      <td>27816</td>\n",
       "      <td>21790</td>\n",
       "      <td>29170</td>\n",
       "      <td>24720</td>\n",
       "    </tr>\n",
       "    <tr>\n",
       "      <th>PERCENT</th>\n",
       "      <td>73.87</td>\n",
       "      <td>32.25</td>\n",
       "      <td>45.99</td>\n",
       "      <td>13.48</td>\n",
       "      <td>40.52</td>\n",
       "      <td>85.43</td>\n",
       "      <td>66.92</td>\n",
       "      <td>91.22</td>\n",
       "      <td>75.92</td>\n",
       "    </tr>\n",
       "  </tbody>\n",
       "</table>\n",
       "</div>"
      ],
      "text/plain": [
       "        workclass education      marital_status      occupation relationship  \\\n",
       "N           30725     32561               32561           30718        32561   \n",
       "NMISS        1836         0                   0            1843            0   \n",
       "MODE      Private   HS-grad  Married-civ-spouse  Prof-specialty      Husband   \n",
       "FREQ        22696     10501               14976            4140        13193   \n",
       "PERCENT     73.87     32.25               45.99           13.48        40.52   \n",
       "\n",
       "          race    sex native_country salary  \n",
       "N        32561  32561          31978  32561  \n",
       "NMISS        0      0            583      0  \n",
       "MODE     White   Male  United-States  <=50K  \n",
       "FREQ     27816  21790          29170  24720  \n",
       "PERCENT  85.43  66.92          91.22  75.92  "
      ]
     },
     "execution_count": 10,
     "metadata": {},
     "output_type": "execute_result"
    }
   ],
   "source": [
    "# For categorical data\n",
    "data.select_dtypes(include='object').apply(cat_summary)"
   ]
  },
  {
   "cell_type": "code",
   "execution_count": 11,
   "metadata": {},
   "outputs": [
    {
     "name": "stdout",
     "output_type": "stream",
     "text": [
      "(32561, 15)\n",
      "age                  0\n",
      "workclass         1836\n",
      "fnlwgt               0\n",
      "education            0\n",
      "edu-num              0\n",
      "marital_status       0\n",
      "occupation        1843\n",
      "relationship         0\n",
      "race                 0\n",
      "sex                  0\n",
      "capital_gain         0\n",
      "capital_loss         0\n",
      "hours_per_week       0\n",
      "native_country     583\n",
      "salary               0\n",
      "dtype: int64\n"
     ]
    }
   ],
   "source": [
    "# Null values in data\n",
    "print(data.shape)\n",
    "print(data.isnull().sum())"
   ]
  },
  {
   "cell_type": "code",
   "execution_count": 12,
   "metadata": {},
   "outputs": [
    {
     "name": "stdout",
     "output_type": "stream",
     "text": [
      "age               0.00\n",
      "workclass         5.64\n",
      "fnlwgt            0.00\n",
      "education         0.00\n",
      "edu-num           0.00\n",
      "marital_status    0.00\n",
      "occupation        5.66\n",
      "relationship      0.00\n",
      "race              0.00\n",
      "sex               0.00\n",
      "capital_gain      0.00\n",
      "capital_loss      0.00\n",
      "hours_per_week    0.00\n",
      "native_country    1.79\n",
      "salary            0.00\n",
      "dtype: float64\n",
      "Missing percentage of the data is: 13.09\n"
     ]
    }
   ],
   "source": [
    "# 13 percent of the data is missing \n",
    "percent_missing = data.isnull().sum() * 100 / len(data)\n",
    "print(round(percent_missing,2))\n",
    "print('Missing percentage of the data is:', 5.64+5.66+1.79)"
   ]
  },
  {
   "cell_type": "markdown",
   "metadata": {},
   "source": [
    "### Data Preprocessing"
   ]
  },
  {
   "cell_type": "code",
   "execution_count": 13,
   "metadata": {},
   "outputs": [],
   "source": [
    "# saving a copy of original data file\n",
    "df = data.copy()"
   ]
  },
  {
   "cell_type": "code",
   "execution_count": 14,
   "metadata": {},
   "outputs": [],
   "source": [
    "df.dropna(subset=['native_country'], inplace=True)"
   ]
  },
  {
   "cell_type": "code",
   "execution_count": 15,
   "metadata": {},
   "outputs": [],
   "source": [
    "df.fillna(df.select_dtypes(include='object').mode().iloc[0], inplace=True)"
   ]
  },
  {
   "cell_type": "code",
   "execution_count": 16,
   "metadata": {},
   "outputs": [
    {
     "data": {
      "text/plain": [
       "age               0\n",
       "workclass         0\n",
       "fnlwgt            0\n",
       "education         0\n",
       "edu-num           0\n",
       "marital_status    0\n",
       "occupation        0\n",
       "relationship      0\n",
       "race              0\n",
       "sex               0\n",
       "capital_gain      0\n",
       "capital_loss      0\n",
       "hours_per_week    0\n",
       "native_country    0\n",
       "salary            0\n",
       "dtype: int64"
      ]
     },
     "execution_count": 16,
     "metadata": {},
     "output_type": "execute_result"
    }
   ],
   "source": [
    "df.isnull().sum()"
   ]
  },
  {
   "cell_type": "code",
   "execution_count": 17,
   "metadata": {},
   "outputs": [
    {
     "data": {
      "text/plain": [
       "age                   0\n",
       "workclass             0\n",
       "fnlwgt                0\n",
       "education             0\n",
       "edu-num               0\n",
       "marital_status        0\n",
       "occupation            0\n",
       "relationship          0\n",
       "race                  0\n",
       "sex                   0\n",
       "capital_gain      29320\n",
       "capital_loss      30495\n",
       "hours_per_week        0\n",
       "native_country        0\n",
       "salary                0\n",
       "dtype: int64"
      ]
     },
     "execution_count": 17,
     "metadata": {},
     "output_type": "execute_result"
    }
   ],
   "source": [
    "# Checking number of zeros\n",
    "df.isin([0]).sum()"
   ]
  },
  {
   "cell_type": "code",
   "execution_count": 18,
   "metadata": {},
   "outputs": [
    {
     "name": "stdout",
     "output_type": "stream",
     "text": [
      "age                0.00\n",
      "workclass          0.00\n",
      "fnlwgt             0.00\n",
      "education          0.00\n",
      "edu-num            0.00\n",
      "marital_status     0.00\n",
      "occupation         0.00\n",
      "relationship       0.00\n",
      "race               0.00\n",
      "sex                0.00\n",
      "capital_gain      91.69\n",
      "capital_loss      95.36\n",
      "hours_per_week     0.00\n",
      "native_country     0.00\n",
      "salary             0.00\n",
      "dtype: float64\n"
     ]
    }
   ],
   "source": [
    "# zeros in columns\n",
    "percent_zeros = df.isin([0]).sum() * 100 / len(df)\n",
    "print(round(percent_zeros,2))"
   ]
  },
  {
   "cell_type": "code",
   "execution_count": 19,
   "metadata": {},
   "outputs": [
    {
     "data": {
      "text/plain": [
       "0        29320\n",
       "15024      341\n",
       "7688       275\n",
       "7298       242\n",
       "99999      152\n",
       "3103        97\n",
       "5178        95\n",
       "5013        69\n",
       "4386        68\n",
       "8614        55\n",
       "Name: capital_gain, dtype: int64"
      ]
     },
     "execution_count": 19,
     "metadata": {},
     "output_type": "execute_result"
    }
   ],
   "source": [
    "# check occuring values\n",
    "\n",
    "#largest value is 99999 which is unlikely as other values are not near to it/can be a human error\n",
    "df.capital_gain.value_counts(dropna=False).head(10) "
   ]
  },
  {
   "cell_type": "markdown",
   "metadata": {},
   "source": [
    "### Feature Selection and Pruning"
   ]
  },
  {
   "cell_type": "code",
   "execution_count": 20,
   "metadata": {},
   "outputs": [],
   "source": [
    "# dropping columns with 91% and 95% zeros and errors\n",
    "df.drop(['capital_gain', 'capital_loss'], axis = 1, inplace=True) "
   ]
  },
  {
   "cell_type": "code",
   "execution_count": 21,
   "metadata": {},
   "outputs": [
    {
     "data": {
      "text/plain": [
       "(31978, 13)"
      ]
     },
     "execution_count": 21,
     "metadata": {},
     "output_type": "execute_result"
    }
   ],
   "source": [
    "df.shape"
   ]
  },
  {
   "cell_type": "code",
   "execution_count": 22,
   "metadata": {},
   "outputs": [
    {
     "name": "stdout",
     "output_type": "stream",
     "text": [
      "<class 'pandas.core.frame.DataFrame'>\n",
      "Int64Index: 31978 entries, 0 to 32560\n",
      "Data columns (total 13 columns):\n",
      " #   Column          Non-Null Count  Dtype \n",
      "---  ------          --------------  ----- \n",
      " 0   age             31978 non-null  int64 \n",
      " 1   workclass       31978 non-null  object\n",
      " 2   fnlwgt          31978 non-null  int64 \n",
      " 3   education       31978 non-null  object\n",
      " 4   edu-num         31978 non-null  int64 \n",
      " 5   marital_status  31978 non-null  object\n",
      " 6   occupation      31978 non-null  object\n",
      " 7   relationship    31978 non-null  object\n",
      " 8   race            31978 non-null  object\n",
      " 9   sex             31978 non-null  object\n",
      " 10  hours_per_week  31978 non-null  int64 \n",
      " 11  native_country  31978 non-null  object\n",
      " 12  salary          31978 non-null  object\n",
      "dtypes: int64(4), object(9)\n",
      "memory usage: 3.4+ MB\n"
     ]
    }
   ],
   "source": [
    "df.info()"
   ]
  },
  {
   "cell_type": "markdown",
   "metadata": {},
   "source": [
    "### Converting categorical data to Numerical using Label Encoder"
   ]
  },
  {
   "cell_type": "code",
   "execution_count": 23,
   "metadata": {},
   "outputs": [],
   "source": [
    "le = LabelEncoder() "
   ]
  },
  {
   "cell_type": "code",
   "execution_count": 24,
   "metadata": {},
   "outputs": [],
   "source": [
    "df['workclass']= le.fit_transform(df['workclass']) \n",
    "df['education']= le.fit_transform(df['education']) \n",
    "df['marital_status']= le.fit_transform(df['marital_status'])   \n",
    "df['occupation']= le.fit_transform(df['occupation']) \n",
    "df['relationship']= le.fit_transform(df['relationship']) \n",
    "df['race']= le.fit_transform(df['race'])  \n",
    "df['sex']= le.fit_transform(df['sex']) \n",
    "df['native_country']= le.fit_transform(df['native_country']) \n",
    "df['salary']= le.fit_transform(df['salary']) "
   ]
  },
  {
   "cell_type": "code",
   "execution_count": 25,
   "metadata": {},
   "outputs": [
    {
     "data": {
      "text/html": [
       "<div>\n",
       "<style scoped>\n",
       "    .dataframe tbody tr th:only-of-type {\n",
       "        vertical-align: middle;\n",
       "    }\n",
       "\n",
       "    .dataframe tbody tr th {\n",
       "        vertical-align: top;\n",
       "    }\n",
       "\n",
       "    .dataframe thead th {\n",
       "        text-align: right;\n",
       "    }\n",
       "</style>\n",
       "<table border=\"1\" class=\"dataframe\">\n",
       "  <thead>\n",
       "    <tr style=\"text-align: right;\">\n",
       "      <th></th>\n",
       "      <th>age</th>\n",
       "      <th>workclass</th>\n",
       "      <th>fnlwgt</th>\n",
       "      <th>education</th>\n",
       "      <th>edu-num</th>\n",
       "      <th>marital_status</th>\n",
       "      <th>occupation</th>\n",
       "      <th>relationship</th>\n",
       "      <th>race</th>\n",
       "      <th>sex</th>\n",
       "      <th>hours_per_week</th>\n",
       "      <th>native_country</th>\n",
       "      <th>salary</th>\n",
       "    </tr>\n",
       "  </thead>\n",
       "  <tbody>\n",
       "    <tr>\n",
       "      <th>0</th>\n",
       "      <td>39</td>\n",
       "      <td>6</td>\n",
       "      <td>77516</td>\n",
       "      <td>9</td>\n",
       "      <td>13</td>\n",
       "      <td>4</td>\n",
       "      <td>0</td>\n",
       "      <td>1</td>\n",
       "      <td>4</td>\n",
       "      <td>1</td>\n",
       "      <td>40</td>\n",
       "      <td>38</td>\n",
       "      <td>0</td>\n",
       "    </tr>\n",
       "    <tr>\n",
       "      <th>1</th>\n",
       "      <td>50</td>\n",
       "      <td>5</td>\n",
       "      <td>83311</td>\n",
       "      <td>9</td>\n",
       "      <td>13</td>\n",
       "      <td>2</td>\n",
       "      <td>3</td>\n",
       "      <td>0</td>\n",
       "      <td>4</td>\n",
       "      <td>1</td>\n",
       "      <td>13</td>\n",
       "      <td>38</td>\n",
       "      <td>0</td>\n",
       "    </tr>\n",
       "    <tr>\n",
       "      <th>2</th>\n",
       "      <td>38</td>\n",
       "      <td>3</td>\n",
       "      <td>215646</td>\n",
       "      <td>11</td>\n",
       "      <td>9</td>\n",
       "      <td>0</td>\n",
       "      <td>5</td>\n",
       "      <td>1</td>\n",
       "      <td>4</td>\n",
       "      <td>1</td>\n",
       "      <td>40</td>\n",
       "      <td>38</td>\n",
       "      <td>0</td>\n",
       "    </tr>\n",
       "    <tr>\n",
       "      <th>3</th>\n",
       "      <td>53</td>\n",
       "      <td>3</td>\n",
       "      <td>234721</td>\n",
       "      <td>1</td>\n",
       "      <td>7</td>\n",
       "      <td>2</td>\n",
       "      <td>5</td>\n",
       "      <td>0</td>\n",
       "      <td>2</td>\n",
       "      <td>1</td>\n",
       "      <td>40</td>\n",
       "      <td>38</td>\n",
       "      <td>0</td>\n",
       "    </tr>\n",
       "    <tr>\n",
       "      <th>4</th>\n",
       "      <td>28</td>\n",
       "      <td>3</td>\n",
       "      <td>338409</td>\n",
       "      <td>9</td>\n",
       "      <td>13</td>\n",
       "      <td>2</td>\n",
       "      <td>9</td>\n",
       "      <td>5</td>\n",
       "      <td>2</td>\n",
       "      <td>0</td>\n",
       "      <td>40</td>\n",
       "      <td>4</td>\n",
       "      <td>0</td>\n",
       "    </tr>\n",
       "  </tbody>\n",
       "</table>\n",
       "</div>"
      ],
      "text/plain": [
       "   age  workclass  fnlwgt  education  edu-num  marital_status  occupation  \\\n",
       "0   39          6   77516          9       13               4           0   \n",
       "1   50          5   83311          9       13               2           3   \n",
       "2   38          3  215646         11        9               0           5   \n",
       "3   53          3  234721          1        7               2           5   \n",
       "4   28          3  338409          9       13               2           9   \n",
       "\n",
       "   relationship  race  sex  hours_per_week  native_country  salary  \n",
       "0             1     4    1              40              38       0  \n",
       "1             0     4    1              13              38       0  \n",
       "2             1     4    1              40              38       0  \n",
       "3             0     2    1              40              38       0  \n",
       "4             5     2    0              40               4       0  "
      ]
     },
     "execution_count": 25,
     "metadata": {},
     "output_type": "execute_result"
    }
   ],
   "source": [
    "df.head(5)"
   ]
  },
  {
   "cell_type": "code",
   "execution_count": 26,
   "metadata": {},
   "outputs": [],
   "source": [
    "df.to_csv('cleaned_Numeric_adult-data.csv')"
   ]
  },
  {
   "cell_type": "code",
   "execution_count": 27,
   "metadata": {},
   "outputs": [
    {
     "data": {
      "text/plain": [
       "0    24283\n",
       "1     7695\n",
       "Name: salary, dtype: int64"
      ]
     },
     "execution_count": 27,
     "metadata": {},
     "output_type": "execute_result"
    }
   ],
   "source": [
    "df.salary.value_counts()"
   ]
  },
  {
   "cell_type": "code",
   "execution_count": 28,
   "metadata": {},
   "outputs": [
    {
     "name": "stdout",
     "output_type": "stream",
     "text": [
      "<class 'pandas.core.frame.DataFrame'>\n",
      "Int64Index: 31978 entries, 0 to 32560\n",
      "Data columns (total 13 columns):\n",
      " #   Column          Non-Null Count  Dtype\n",
      "---  ------          --------------  -----\n",
      " 0   age             31978 non-null  int64\n",
      " 1   workclass       31978 non-null  int32\n",
      " 2   fnlwgt          31978 non-null  int64\n",
      " 3   education       31978 non-null  int32\n",
      " 4   edu-num         31978 non-null  int64\n",
      " 5   marital_status  31978 non-null  int32\n",
      " 6   occupation      31978 non-null  int32\n",
      " 7   relationship    31978 non-null  int32\n",
      " 8   race            31978 non-null  int32\n",
      " 9   sex             31978 non-null  int32\n",
      " 10  hours_per_week  31978 non-null  int64\n",
      " 11  native_country  31978 non-null  int32\n",
      " 12  salary          31978 non-null  int32\n",
      "dtypes: int32(9), int64(4)\n",
      "memory usage: 2.3 MB\n"
     ]
    }
   ],
   "source": [
    "df.info()"
   ]
  },
  {
   "cell_type": "markdown",
   "metadata": {},
   "source": [
    "## Data Visualization"
   ]
  },
  {
   "cell_type": "code",
   "execution_count": 29,
   "metadata": {},
   "outputs": [
    {
     "data": {
      "image/png": "[encoded data removed]",
      "text/plain": [
       "<Figure size 432x288 with 1 Axes>"
      ]
     },
     "metadata": {
      "needs_background": "light"
     },
     "output_type": "display_data"
    },
    {
     "data": {
      "image/png": "[encoded data removed]",
      "text/plain": [
       "<Figure size 432x288 with 1 Axes>"
      ]
     },
     "metadata": {
      "needs_background": "light"
     },
     "output_type": "display_data"
    },
    {
     "data": {
      "image/png": "[encoded data removed]",
      "text/plain": [
       "<Figure size 432x288 with 1 Axes>"
      ]
     },
     "metadata": {
      "needs_background": "light"
     },
     "output_type": "display_data"
    },
    {
     "data": {
      "image/png": "[encoded data removed]",
      "text/plain": [
       "<Figure size 432x288 with 1 Axes>"
      ]
     },
     "metadata": {
      "needs_background": "light"
     },
     "output_type": "display_data"
    },
    {
     "data": {
      "image/png": "[encoded data removed]",
      "text/plain": [
       "<Figure size 432x288 with 1 Axes>"
      ]
     },
     "metadata": {
      "needs_background": "light"
     },
     "output_type": "display_data"
    },
    {
     "data": {
      "image/png": "[encoded data removed]",
      "text/plain": [
       "<Figure size 432x288 with 1 Axes>"
      ]
     },
     "metadata": {
      "needs_background": "light"
     },
     "output_type": "display_data"
    },
    {
     "data": {
      "image/png": "[encoded data removed]",
      "text/plain": [
       "<Figure size 432x288 with 1 Axes>"
      ]
     },
     "metadata": {
      "needs_background": "light"
     },
     "output_type": "display_data"
    },
    {
     "data": {
      "image/png": "[encoded data removed]",
      "text/plain": [
       "<Figure size 432x288 with 1 Axes>"
      ]
     },
     "metadata": {
      "needs_background": "light"
     },
     "output_type": "display_data"
    },
    {
     "data": {
      "image/png": "[encoded data removed]",
      "text/plain": [
       "<Figure size 432x288 with 1 Axes>"
      ]
     },
     "metadata": {
      "needs_background": "light"
     },
     "output_type": "display_data"
    },
    {
     "data": {
      "image/png": "[encoded data removed]",
      "text/plain": [
       "<Figure size 432x288 with 1 Axes>"
      ]
     },
     "metadata": {
      "needs_background": "light"
     },
     "output_type": "display_data"
    },
    {
     "data": {
      "image/png": "[encoded data removed]",
      "text/plain": [
       "<Figure size 432x288 with 1 Axes>"
      ]
     },
     "metadata": {
      "needs_background": "light"
     },
     "output_type": "display_data"
    },
    {
     "data": {
      "image/png": "[encoded data removed]",
      "text/plain": [
       "<Figure size 432x288 with 1 Axes>"
      ]
     },
     "metadata": {
      "needs_background": "light"
     },
     "output_type": "display_data"
    },
    {
     "data": {
      "image/png": "[encoded data removed]",
      "text/plain": [
       "<Figure size 432x288 with 1 Axes>"
      ]
     },
     "metadata": {
      "needs_background": "light"
     },
     "output_type": "display_data"
    }
   ],
   "source": [
    "for colname in df:\n",
    "    plt.title('Column: ' + colname)\n",
    "\n",
    "    (data[colname]\n",
    "         .value_counts()\n",
    "         .head(20)\n",
    "         .plot(kind='barh', color='b'))\n",
    "\n",
    "    plt.show()"
   ]
  },
  {
   "cell_type": "code",
   "execution_count": 30,
   "metadata": {},
   "outputs": [
    {
     "data": {
      "text/html": [
       "<div>\n",
       "<style scoped>\n",
       "    .dataframe tbody tr th:only-of-type {\n",
       "        vertical-align: middle;\n",
       "    }\n",
       "\n",
       "    .dataframe tbody tr th {\n",
       "        vertical-align: top;\n",
       "    }\n",
       "\n",
       "    .dataframe thead th {\n",
       "        text-align: right;\n",
       "    }\n",
       "</style>\n",
       "<table border=\"1\" class=\"dataframe\">\n",
       "  <thead>\n",
       "    <tr style=\"text-align: right;\">\n",
       "      <th></th>\n",
       "      <th>age</th>\n",
       "      <th>workclass</th>\n",
       "      <th>fnlwgt</th>\n",
       "      <th>education</th>\n",
       "      <th>edu-num</th>\n",
       "      <th>marital_status</th>\n",
       "      <th>occupation</th>\n",
       "      <th>relationship</th>\n",
       "      <th>race</th>\n",
       "      <th>sex</th>\n",
       "      <th>hours_per_week</th>\n",
       "      <th>native_country</th>\n",
       "      <th>salary</th>\n",
       "    </tr>\n",
       "  </thead>\n",
       "  <tbody>\n",
       "    <tr>\n",
       "      <th>age</th>\n",
       "      <td>1.000000</td>\n",
       "      <td>0.040069</td>\n",
       "      <td>-0.076704</td>\n",
       "      <td>-0.009375</td>\n",
       "      <td>0.036614</td>\n",
       "      <td>-0.265736</td>\n",
       "      <td>0.002228</td>\n",
       "      <td>-0.264718</td>\n",
       "      <td>0.026615</td>\n",
       "      <td>0.089035</td>\n",
       "      <td>0.068299</td>\n",
       "      <td>-0.000323</td>\n",
       "      <td>0.233601</td>\n",
       "    </tr>\n",
       "    <tr>\n",
       "      <th>workclass</th>\n",
       "      <td>0.040069</td>\n",
       "      <td>1.000000</td>\n",
       "      <td>-0.024580</td>\n",
       "      <td>0.005492</td>\n",
       "      <td>0.003004</td>\n",
       "      <td>-0.019893</td>\n",
       "      <td>0.007707</td>\n",
       "      <td>-0.058477</td>\n",
       "      <td>0.050095</td>\n",
       "      <td>0.071219</td>\n",
       "      <td>0.042582</td>\n",
       "      <td>-0.001825</td>\n",
       "      <td>0.001736</td>\n",
       "    </tr>\n",
       "    <tr>\n",
       "      <th>fnlwgt</th>\n",
       "      <td>-0.076704</td>\n",
       "      <td>-0.024580</td>\n",
       "      <td>1.000000</td>\n",
       "      <td>-0.028538</td>\n",
       "      <td>-0.044256</td>\n",
       "      <td>0.028455</td>\n",
       "      <td>-0.000349</td>\n",
       "      <td>0.010490</td>\n",
       "      <td>-0.021784</td>\n",
       "      <td>0.025624</td>\n",
       "      <td>-0.018885</td>\n",
       "      <td>-0.063954</td>\n",
       "      <td>-0.009014</td>\n",
       "    </tr>\n",
       "    <tr>\n",
       "      <th>education</th>\n",
       "      <td>-0.009375</td>\n",
       "      <td>0.005492</td>\n",
       "      <td>-0.028538</td>\n",
       "      <td>1.000000</td>\n",
       "      <td>0.359094</td>\n",
       "      <td>-0.038663</td>\n",
       "      <td>-0.041766</td>\n",
       "      <td>-0.011239</td>\n",
       "      <td>0.014345</td>\n",
       "      <td>-0.027212</td>\n",
       "      <td>0.056381</td>\n",
       "      <td>0.077016</td>\n",
       "      <td>0.080056</td>\n",
       "    </tr>\n",
       "    <tr>\n",
       "      <th>edu-num</th>\n",
       "      <td>0.036614</td>\n",
       "      <td>0.003004</td>\n",
       "      <td>-0.044256</td>\n",
       "      <td>0.359094</td>\n",
       "      <td>1.000000</td>\n",
       "      <td>-0.068945</td>\n",
       "      <td>0.069393</td>\n",
       "      <td>-0.094473</td>\n",
       "      <td>0.035302</td>\n",
       "      <td>0.011326</td>\n",
       "      <td>0.149417</td>\n",
       "      <td>0.089206</td>\n",
       "      <td>0.335883</td>\n",
       "    </tr>\n",
       "    <tr>\n",
       "      <th>marital_status</th>\n",
       "      <td>-0.265736</td>\n",
       "      <td>-0.019893</td>\n",
       "      <td>0.028455</td>\n",
       "      <td>-0.038663</td>\n",
       "      <td>-0.068945</td>\n",
       "      <td>1.000000</td>\n",
       "      <td>0.035577</td>\n",
       "      <td>0.185034</td>\n",
       "      <td>-0.068888</td>\n",
       "      <td>-0.129334</td>\n",
       "      <td>-0.193249</td>\n",
       "      <td>-0.021846</td>\n",
       "      <td>-0.198467</td>\n",
       "    </tr>\n",
       "    <tr>\n",
       "      <th>occupation</th>\n",
       "      <td>0.002228</td>\n",
       "      <td>0.007707</td>\n",
       "      <td>-0.000349</td>\n",
       "      <td>-0.041766</td>\n",
       "      <td>0.069393</td>\n",
       "      <td>0.035577</td>\n",
       "      <td>1.000000</td>\n",
       "      <td>-0.038203</td>\n",
       "      <td>-0.003168</td>\n",
       "      <td>0.047865</td>\n",
       "      <td>-0.012956</td>\n",
       "      <td>-0.002652</td>\n",
       "      <td>0.035885</td>\n",
       "    </tr>\n",
       "    <tr>\n",
       "      <th>relationship</th>\n",
       "      <td>-0.264718</td>\n",
       "      <td>-0.058477</td>\n",
       "      <td>0.010490</td>\n",
       "      <td>-0.011239</td>\n",
       "      <td>-0.094473</td>\n",
       "      <td>0.185034</td>\n",
       "      <td>-0.038203</td>\n",
       "      <td>1.000000</td>\n",
       "      <td>-0.117787</td>\n",
       "      <td>-0.581323</td>\n",
       "      <td>-0.248907</td>\n",
       "      <td>-0.010668</td>\n",
       "      <td>-0.250866</td>\n",
       "    </tr>\n",
       "    <tr>\n",
       "      <th>race</th>\n",
       "      <td>0.026615</td>\n",
       "      <td>0.050095</td>\n",
       "      <td>-0.021784</td>\n",
       "      <td>0.014345</td>\n",
       "      <td>0.035302</td>\n",
       "      <td>-0.068888</td>\n",
       "      <td>-0.003168</td>\n",
       "      <td>-0.117787</td>\n",
       "      <td>1.000000</td>\n",
       "      <td>0.090093</td>\n",
       "      <td>0.045787</td>\n",
       "      <td>0.121527</td>\n",
       "      <td>0.072713</td>\n",
       "    </tr>\n",
       "    <tr>\n",
       "      <th>sex</th>\n",
       "      <td>0.089035</td>\n",
       "      <td>0.071219</td>\n",
       "      <td>0.025624</td>\n",
       "      <td>-0.027212</td>\n",
       "      <td>0.011326</td>\n",
       "      <td>-0.129334</td>\n",
       "      <td>0.047865</td>\n",
       "      <td>-0.581323</td>\n",
       "      <td>0.090093</td>\n",
       "      <td>1.000000</td>\n",
       "      <td>0.229645</td>\n",
       "      <td>0.001556</td>\n",
       "      <td>0.216070</td>\n",
       "    </tr>\n",
       "    <tr>\n",
       "      <th>hours_per_week</th>\n",
       "      <td>0.068299</td>\n",
       "      <td>0.042582</td>\n",
       "      <td>-0.018885</td>\n",
       "      <td>0.056381</td>\n",
       "      <td>0.149417</td>\n",
       "      <td>-0.193249</td>\n",
       "      <td>-0.012956</td>\n",
       "      <td>-0.248907</td>\n",
       "      <td>0.045787</td>\n",
       "      <td>0.229645</td>\n",
       "      <td>1.000000</td>\n",
       "      <td>0.006238</td>\n",
       "      <td>0.230448</td>\n",
       "    </tr>\n",
       "    <tr>\n",
       "      <th>native_country</th>\n",
       "      <td>-0.000323</td>\n",
       "      <td>-0.001825</td>\n",
       "      <td>-0.063954</td>\n",
       "      <td>0.077016</td>\n",
       "      <td>0.089206</td>\n",
       "      <td>-0.021846</td>\n",
       "      <td>-0.002652</td>\n",
       "      <td>-0.010668</td>\n",
       "      <td>0.121527</td>\n",
       "      <td>0.001556</td>\n",
       "      <td>0.006238</td>\n",
       "      <td>1.000000</td>\n",
       "      <td>0.023179</td>\n",
       "    </tr>\n",
       "    <tr>\n",
       "      <th>salary</th>\n",
       "      <td>0.233601</td>\n",
       "      <td>0.001736</td>\n",
       "      <td>-0.009014</td>\n",
       "      <td>0.080056</td>\n",
       "      <td>0.335883</td>\n",
       "      <td>-0.198467</td>\n",
       "      <td>0.035885</td>\n",
       "      <td>-0.250866</td>\n",
       "      <td>0.072713</td>\n",
       "      <td>0.216070</td>\n",
       "      <td>0.230448</td>\n",
       "      <td>0.023179</td>\n",
       "      <td>1.000000</td>\n",
       "    </tr>\n",
       "  </tbody>\n",
       "</table>\n",
       "</div>"
      ],
      "text/plain": [
       "                     age  workclass    fnlwgt  education   edu-num  \\\n",
       "age             1.000000   0.040069 -0.076704  -0.009375  0.036614   \n",
       "workclass       0.040069   1.000000 -0.024580   0.005492  0.003004   \n",
       "fnlwgt         -0.076704  -0.024580  1.000000  -0.028538 -0.044256   \n",
       "education      -0.009375   0.005492 -0.028538   1.000000  0.359094   \n",
       "edu-num         0.036614   0.003004 -0.044256   0.359094  1.000000   \n",
       "marital_status -0.265736  -0.019893  0.028455  -0.038663 -0.068945   \n",
       "occupation      0.002228   0.007707 -0.000349  -0.041766  0.069393   \n",
       "relationship   -0.264718  -0.058477  0.010490  -0.011239 -0.094473   \n",
       "race            0.026615   0.050095 -0.021784   0.014345  0.035302   \n",
       "sex             0.089035   0.071219  0.025624  -0.027212  0.011326   \n",
       "hours_per_week  0.068299   0.042582 -0.018885   0.056381  0.149417   \n",
       "native_country -0.000323  -0.001825 -0.063954   0.077016  0.089206   \n",
       "salary          0.233601   0.001736 -0.009014   0.080056  0.335883   \n",
       "\n",
       "                marital_status  occupation  relationship      race       sex  \\\n",
       "age                  -0.265736    0.002228     -0.264718  0.026615  0.089035   \n",
       "workclass            -0.019893    0.007707     -0.058477  0.050095  0.071219   \n",
       "fnlwgt                0.028455   -0.000349      0.010490 -0.021784  0.025624   \n",
       "education            -0.038663   -0.041766     -0.011239  0.014345 -0.027212   \n",
       "edu-num              -0.068945    0.069393     -0.094473  0.035302  0.011326   \n",
       "marital_status        1.000000    0.035577      0.185034 -0.068888 -0.129334   \n",
       "occupation            0.035577    1.000000     -0.038203 -0.003168  0.047865   \n",
       "relationship          0.185034   -0.038203      1.000000 -0.117787 -0.581323   \n",
       "race                 -0.068888   -0.003168     -0.117787  1.000000  0.090093   \n",
       "sex                  -0.129334    0.047865     -0.581323  0.090093  1.000000   \n",
       "hours_per_week       -0.193249   -0.012956     -0.248907  0.045787  0.229645   \n",
       "native_country       -0.021846   -0.002652     -0.010668  0.121527  0.001556   \n",
       "salary               -0.198467    0.035885     -0.250866  0.072713  0.216070   \n",
       "\n",
       "                hours_per_week  native_country    salary  \n",
       "age                   0.068299       -0.000323  0.233601  \n",
       "workclass             0.042582       -0.001825  0.001736  \n",
       "fnlwgt               -0.018885       -0.063954 -0.009014  \n",
       "education             0.056381        0.077016  0.080056  \n",
       "edu-num               0.149417        0.089206  0.335883  \n",
       "marital_status       -0.193249       -0.021846 -0.198467  \n",
       "occupation           -0.012956       -0.002652  0.035885  \n",
       "relationship         -0.248907       -0.010668 -0.250866  \n",
       "race                  0.045787        0.121527  0.072713  \n",
       "sex                   0.229645        0.001556  0.216070  \n",
       "hours_per_week        1.000000        0.006238  0.230448  \n",
       "native_country        0.006238        1.000000  0.023179  \n",
       "salary                0.230448        0.023179  1.000000  "
      ]
     },
     "execution_count": 30,
     "metadata": {},
     "output_type": "execute_result"
    }
   ],
   "source": [
    "df.corr()"
   ]
  },
  {
   "cell_type": "code",
   "execution_count": 31,
   "metadata": {},
   "outputs": [],
   "source": [
    "corr = df.corr()"
   ]
  },
  {
   "cell_type": "code",
   "execution_count": 32,
   "metadata": {},
   "outputs": [
    {
     "data": {
      "text/plain": [
       "<matplotlib.axes._subplots.AxesSubplot at 0x1fa7a4a3088>"
      ]
     },
     "execution_count": 32,
     "metadata": {},
     "output_type": "execute_result"
    },
    {
     "data": {
      "image/png": "[encoded data removed]",
      "text/plain": [
       "<Figure size 864x576 with 2 Axes>"
      ]
     },
     "metadata": {
      "needs_background": "light"
     },
     "output_type": "display_data"
    }
   ],
   "source": [
    "fig=plt.figure(figsize=(12,8))\n",
    "sns.heatmap(corr, vmin=0, vmax=1, annot = True, cmap=\"YlGnBu\")"
   ]
  },
  {
   "cell_type": "markdown",
   "metadata": {},
   "source": [
    "### Central tendency and Standard deviation "
   ]
  },
  {
   "cell_type": "code",
   "execution_count": 33,
   "metadata": {},
   "outputs": [
    {
     "data": {
      "text/html": [
       "<div>\n",
       "<style scoped>\n",
       "    .dataframe tbody tr th:only-of-type {\n",
       "        vertical-align: middle;\n",
       "    }\n",
       "\n",
       "    .dataframe tbody tr th {\n",
       "        vertical-align: top;\n",
       "    }\n",
       "\n",
       "    .dataframe thead th {\n",
       "        text-align: right;\n",
       "    }\n",
       "</style>\n",
       "<table border=\"1\" class=\"dataframe\">\n",
       "  <thead>\n",
       "    <tr style=\"text-align: right;\">\n",
       "      <th></th>\n",
       "      <th>age</th>\n",
       "      <th>fnlwgt</th>\n",
       "      <th>edu-num</th>\n",
       "      <th>hours_per_week</th>\n",
       "    </tr>\n",
       "  </thead>\n",
       "  <tbody>\n",
       "    <tr>\n",
       "      <th>MEAN</th>\n",
       "      <td>38.579023</td>\n",
       "      <td>1.897141e+05</td>\n",
       "      <td>10.071236</td>\n",
       "      <td>40.417850</td>\n",
       "    </tr>\n",
       "    <tr>\n",
       "      <th>MEDIAN</th>\n",
       "      <td>37.000000</td>\n",
       "      <td>1.783120e+05</td>\n",
       "      <td>10.000000</td>\n",
       "      <td>40.000000</td>\n",
       "    </tr>\n",
       "    <tr>\n",
       "      <th>STD</th>\n",
       "      <td>13.662085</td>\n",
       "      <td>1.057255e+05</td>\n",
       "      <td>2.560667</td>\n",
       "      <td>12.345285</td>\n",
       "    </tr>\n",
       "    <tr>\n",
       "      <th>VARIANCE</th>\n",
       "      <td>186.652557</td>\n",
       "      <td>1.117789e+10</td>\n",
       "      <td>6.557017</td>\n",
       "      <td>152.406063</td>\n",
       "    </tr>\n",
       "  </tbody>\n",
       "</table>\n",
       "</div>"
      ],
      "text/plain": [
       "                 age        fnlwgt    edu-num  hours_per_week\n",
       "MEAN       38.579023  1.897141e+05  10.071236       40.417850\n",
       "MEDIAN     37.000000  1.783120e+05  10.000000       40.000000\n",
       "STD        13.662085  1.057255e+05   2.560667       12.345285\n",
       "VARIANCE  186.652557  1.117789e+10   6.557017      152.406063"
      ]
     },
     "execution_count": 33,
     "metadata": {},
     "output_type": "execute_result"
    }
   ],
   "source": [
    "df.select_dtypes(include='int64').apply(continuous_summary)"
   ]
  },
  {
   "cell_type": "code",
   "execution_count": 34,
   "metadata": {},
   "outputs": [
    {
     "data": {
      "text/html": [
       "<div>\n",
       "<style scoped>\n",
       "    .dataframe tbody tr th:only-of-type {\n",
       "        vertical-align: middle;\n",
       "    }\n",
       "\n",
       "    .dataframe tbody tr th {\n",
       "        vertical-align: top;\n",
       "    }\n",
       "\n",
       "    .dataframe thead th {\n",
       "        text-align: right;\n",
       "    }\n",
       "</style>\n",
       "<table border=\"1\" class=\"dataframe\">\n",
       "  <thead>\n",
       "    <tr style=\"text-align: right;\">\n",
       "      <th></th>\n",
       "      <th>workclass</th>\n",
       "      <th>education</th>\n",
       "      <th>marital_status</th>\n",
       "      <th>occupation</th>\n",
       "      <th>relationship</th>\n",
       "      <th>race</th>\n",
       "      <th>sex</th>\n",
       "      <th>native_country</th>\n",
       "      <th>salary</th>\n",
       "    </tr>\n",
       "  </thead>\n",
       "  <tbody>\n",
       "    <tr>\n",
       "      <th>MEAN</th>\n",
       "      <td>3.093658</td>\n",
       "      <td>10.302489</td>\n",
       "      <td>2.609575</td>\n",
       "      <td>6.132497</td>\n",
       "      <td>1.447276</td>\n",
       "      <td>3.674120</td>\n",
       "      <td>0.668272</td>\n",
       "      <td>36.388298</td>\n",
       "      <td>0.240634</td>\n",
       "    </tr>\n",
       "    <tr>\n",
       "      <th>MEDIAN</th>\n",
       "      <td>3.000000</td>\n",
       "      <td>11.000000</td>\n",
       "      <td>2.000000</td>\n",
       "      <td>6.000000</td>\n",
       "      <td>1.000000</td>\n",
       "      <td>4.000000</td>\n",
       "      <td>1.000000</td>\n",
       "      <td>38.000000</td>\n",
       "      <td>0.000000</td>\n",
       "    </tr>\n",
       "    <tr>\n",
       "      <th>STD</th>\n",
       "      <td>1.108416</td>\n",
       "      <td>3.873960</td>\n",
       "      <td>1.508589</td>\n",
       "      <td>3.976223</td>\n",
       "      <td>1.606442</td>\n",
       "      <td>0.839740</td>\n",
       "      <td>0.470841</td>\n",
       "      <td>6.107197</td>\n",
       "      <td>0.427475</td>\n",
       "    </tr>\n",
       "    <tr>\n",
       "      <th>VARIANCE</th>\n",
       "      <td>1.228586</td>\n",
       "      <td>15.007569</td>\n",
       "      <td>2.275840</td>\n",
       "      <td>15.810351</td>\n",
       "      <td>2.580655</td>\n",
       "      <td>0.705163</td>\n",
       "      <td>0.221691</td>\n",
       "      <td>37.297855</td>\n",
       "      <td>0.182735</td>\n",
       "    </tr>\n",
       "  </tbody>\n",
       "</table>\n",
       "</div>"
      ],
      "text/plain": [
       "          workclass  education  marital_status  occupation  relationship  \\\n",
       "MEAN       3.093658  10.302489        2.609575    6.132497      1.447276   \n",
       "MEDIAN     3.000000  11.000000        2.000000    6.000000      1.000000   \n",
       "STD        1.108416   3.873960        1.508589    3.976223      1.606442   \n",
       "VARIANCE   1.228586  15.007569        2.275840   15.810351      2.580655   \n",
       "\n",
       "              race       sex  native_country    salary  \n",
       "MEAN      3.674120  0.668272       36.388298  0.240634  \n",
       "MEDIAN    4.000000  1.000000       38.000000  0.000000  \n",
       "STD       0.839740  0.470841        6.107197  0.427475  \n",
       "VARIANCE  0.705163  0.221691       37.297855  0.182735  "
      ]
     },
     "execution_count": 34,
     "metadata": {},
     "output_type": "execute_result"
    }
   ],
   "source": [
    "df.select_dtypes(include='int32').apply(continuous_summary)"
   ]
  },
  {
   "cell_type": "markdown",
   "metadata": {},
   "source": [
    "## Random Sampler"
   ]
  },
  {
   "cell_type": "code",
   "execution_count": 35,
   "metadata": {},
   "outputs": [],
   "source": [
    "ros = RandomOverSampler(random_state=99)\n",
    "X, y = ros.fit_resample(df.drop(['salary'], axis=1), df.salary)"
   ]
  },
  {
   "cell_type": "code",
   "execution_count": 36,
   "metadata": {},
   "outputs": [
    {
     "data": {
      "text/plain": [
       "(48566, 48566)"
      ]
     },
     "execution_count": 36,
     "metadata": {},
     "output_type": "execute_result"
    }
   ],
   "source": [
    "len(X), len(y)"
   ]
  },
  {
   "cell_type": "markdown",
   "metadata": {},
   "source": [
    "## Train and Test Split"
   ]
  },
  {
   "cell_type": "code",
   "execution_count": 37,
   "metadata": {},
   "outputs": [],
   "source": [
    "X_train, X_test, y_train, y_test = train_test_split(X, y, test_size=0.3, random_state=42)"
   ]
  },
  {
   "cell_type": "code",
   "execution_count": 38,
   "metadata": {},
   "outputs": [
    {
     "name": "stdout",
     "output_type": "stream",
     "text": [
      "(33996, 12) (14570, 12) (33996,) (14570,)\n"
     ]
    }
   ],
   "source": [
    "print(X_train.shape, X_test.shape, y_train.shape, y_test.shape)"
   ]
  },
  {
   "cell_type": "markdown",
   "metadata": {},
   "source": [
    "## Modelling- Random Forest"
   ]
  },
  {
   "cell_type": "code",
   "execution_count": 39,
   "metadata": {},
   "outputs": [],
   "source": [
    "rfc=RandomForestClassifier(random_state=42)"
   ]
  },
  {
   "cell_type": "code",
   "execution_count": 40,
   "metadata": {},
   "outputs": [],
   "source": [
    "# Model fit\n",
    "rfc.fit(X_train,y_train.values.ravel())\n",
    "y_pred = rfc.predict(X_test)"
   ]
  },
  {
   "cell_type": "code",
   "execution_count": 41,
   "metadata": {},
   "outputs": [
    {
     "name": "stdout",
     "output_type": "stream",
     "text": [
      "0.9105010295126973\n",
      "              precision    recall  f1-score   support\n",
      "\n",
      "           0       0.96      0.86      0.91      7277\n",
      "           1       0.87      0.97      0.92      7293\n",
      "\n",
      "    accuracy                           0.91     14570\n",
      "   macro avg       0.92      0.91      0.91     14570\n",
      "weighted avg       0.92      0.91      0.91     14570\n",
      "\n"
     ]
    }
   ],
   "source": [
    "print(rfc.score(X_test,y_test))\n",
    "print(classification_report(y_test, y_pred))"
   ]
  },
  {
   "cell_type": "code",
   "execution_count": 42,
   "metadata": {},
   "outputs": [
    {
     "name": "stdout",
     "output_type": "stream",
     "text": [
      "[[6226 1051]\n",
      " [ 253 7040]]\n"
     ]
    }
   ],
   "source": [
    "print(confusion_matrix(y_test, y_pred)) "
   ]
  },
  {
   "cell_type": "code",
   "execution_count": 43,
   "metadata": {},
   "outputs": [
    {
     "name": "stdout",
     "output_type": "stream",
     "text": [
      "Train Accuracy: 99.99\n",
      "Test Accuracy: 91.05\n"
     ]
    }
   ],
   "source": [
    "print('Train Accuracy:', accuracy_score(y_train, rfc.predict(X_train)).round(4) * 100)\n",
    "print('Test Accuracy:', accuracy_score(y_test, y_pred).round(4) * 100)"
   ]
  },
  {
   "cell_type": "markdown",
   "metadata": {},
   "source": [
    "### Using GridSearch CV for tuning Hyperparamerters"
   ]
  },
  {
   "cell_type": "code",
   "execution_count": 67,
   "metadata": {},
   "outputs": [],
   "source": [
    "hyperparameters = { \n",
    "    'n_estimators': [200, 500],\n",
    "    'max_features': ['auto', 'sqrt', 'log2'],\n",
    "    'max_depth' : [4, 5, 6, 7, 8],\n",
    "    'criterion' :['gini', 'entropy']\n",
    "}\n"
   ]
  },
  {
   "cell_type": "code",
   "execution_count": 70,
   "metadata": {},
   "outputs": [],
   "source": [
    "clf = GridSearchCV(rfc, hyperparameters, cv=5)"
   ]
  },
  {
   "cell_type": "code",
   "execution_count": 71,
   "metadata": {},
   "outputs": [
    {
     "data": {
      "text/plain": [
       "GridSearchCV(cv=5, estimator=RandomForestClassifier(random_state=42),\n",
       "             param_grid={'criterion': ['gini', 'entropy'],\n",
       "                         'max_depth': [4, 5, 6, 7, 8],\n",
       "                         'max_features': ['auto', 'sqrt', 'log2'],\n",
       "                         'n_estimators': [200, 500]})"
      ]
     },
     "execution_count": 71,
     "metadata": {},
     "output_type": "execute_result"
    }
   ],
   "source": [
    "clf.fit(X_train,y_train.values.ravel())"
   ]
  },
  {
   "cell_type": "code",
   "execution_count": 72,
   "metadata": {},
   "outputs": [
    {
     "data": {
      "text/plain": [
       "{'criterion': 'gini',\n",
       " 'max_depth': 8,\n",
       " 'max_features': 'auto',\n",
       " 'n_estimators': 500}"
      ]
     },
     "execution_count": 72,
     "metadata": {},
     "output_type": "execute_result"
    }
   ],
   "source": [
    "clf.best_params_"
   ]
  },
  {
   "cell_type": "code",
   "execution_count": 73,
   "metadata": {},
   "outputs": [
    {
     "data": {
      "text/plain": [
       "0.8160959872991704"
      ]
     },
     "execution_count": 73,
     "metadata": {},
     "output_type": "execute_result"
    }
   ],
   "source": [
    "clf.best_score_"
   ]
  },
  {
   "cell_type": "code",
   "execution_count": 74,
   "metadata": {},
   "outputs": [
    {
     "name": "stdout",
     "output_type": "stream",
     "text": [
      "Training accuracy: 82.39999999999999\n",
      "Testing accuracy: 81.89\n"
     ]
    }
   ],
   "source": [
    "print(\"Training accuracy:\", accuracy_score(y_train.values.ravel(), clf.best_estimator_.predict(X_train)).round(4) * 100)\n",
    "print(\"Testing accuracy:\", accuracy_score(y_test, clf.best_estimator_.predict(X_test)).round(4) * 100)"
   ]
  },
  {
   "cell_type": "markdown",
   "metadata": {},
   "source": [
    "### Parameters After Tuning"
   ]
  },
  {
   "cell_type": "code",
   "execution_count": 75,
   "metadata": {},
   "outputs": [],
   "source": [
    "rfc=RandomForestClassifier(random_state=42, n_estimators=500, max_depth=8, max_features='auto', criterion='gini')"
   ]
  },
  {
   "cell_type": "code",
   "execution_count": 76,
   "metadata": {},
   "outputs": [],
   "source": [
    "rfc.fit(X_train,y_train.values.ravel())\n",
    "y_pred_cv = rfc.predict(X_test)"
   ]
  },
  {
   "cell_type": "code",
   "execution_count": 77,
   "metadata": {},
   "outputs": [
    {
     "name": "stdout",
     "output_type": "stream",
     "text": [
      "0.8189430336307482\n",
      "              precision    recall  f1-score   support\n",
      "\n",
      "           0       0.87      0.76      0.81      7277\n",
      "           1       0.78      0.88      0.83      7293\n",
      "\n",
      "    accuracy                           0.82     14570\n",
      "   macro avg       0.82      0.82      0.82     14570\n",
      "weighted avg       0.82      0.82      0.82     14570\n",
      "\n"
     ]
    }
   ],
   "source": [
    "print(rfc.score(X_test,y_test))\n",
    "print(classification_report(y_test, y_pred_cv))"
   ]
  },
  {
   "cell_type": "code",
   "execution_count": 78,
   "metadata": {},
   "outputs": [
    {
     "name": "stdout",
     "output_type": "stream",
     "text": [
      "[[5495 1782]\n",
      " [ 856 6437]]\n"
     ]
    }
   ],
   "source": [
    "print(confusion_matrix(y_test, y_pred_cv)) "
   ]
  },
  {
   "cell_type": "code",
   "execution_count": 79,
   "metadata": {},
   "outputs": [
    {
     "name": "stdout",
     "output_type": "stream",
     "text": [
      "Train Accuracy: 82.39999999999999\n",
      "Test Accuracy: 81.89\n"
     ]
    }
   ],
   "source": [
    "print('Train Accuracy:', accuracy_score(y_train, rfc.predict(X_train)).round(4) * 100)\n",
    "print('Test Accuracy:', accuracy_score(y_test, y_pred_cv).round(4) * 100)"
   ]
  },
  {
   "cell_type": "markdown",
   "metadata": {},
   "source": [
    "# Unsupervised Learning"
   ]
  },
  {
   "cell_type": "code",
   "execution_count": null,
   "metadata": {},
   "outputs": [],
   "source": [
    "# Required library import\n",
    "\n",
    "import pandas as pd\n",
    "import numpy as np\n",
    "import seaborn as sns\n",
    "import matplotlib.pyplot as plt\n",
    "\n",
    "from sklearn.preprocessing import StandardScaler\n",
    "from sklearn.decomposition import PCA\n",
    "from sklearn.cluster import KMeans \n",
    "from scipy.spatial.distance import cdist"
   ]
  },
  {
   "cell_type": "markdown",
   "metadata": {},
   "source": [
    "### Reading Data"
   ]
  },
  {
   "cell_type": "code",
   "execution_count": 190,
   "metadata": {},
   "outputs": [
    {
     "data": {
      "text/html": [
       "<div>\n",
       "<style scoped>\n",
       "    .dataframe tbody tr th:only-of-type {\n",
       "        vertical-align: middle;\n",
       "    }\n",
       "\n",
       "    .dataframe tbody tr th {\n",
       "        vertical-align: top;\n",
       "    }\n",
       "\n",
       "    .dataframe thead th {\n",
       "        text-align: right;\n",
       "    }\n",
       "</style>\n",
       "<table border=\"1\" class=\"dataframe\">\n",
       "  <thead>\n",
       "    <tr style=\"text-align: right;\">\n",
       "      <th></th>\n",
       "      <th>age</th>\n",
       "      <th>workclass</th>\n",
       "      <th>fnlwgt</th>\n",
       "      <th>education</th>\n",
       "      <th>edu-num</th>\n",
       "      <th>marital_status</th>\n",
       "      <th>occupation</th>\n",
       "      <th>relationship</th>\n",
       "      <th>race</th>\n",
       "      <th>sex</th>\n",
       "      <th>hours_per_week</th>\n",
       "      <th>native_country</th>\n",
       "      <th>salary</th>\n",
       "    </tr>\n",
       "  </thead>\n",
       "  <tbody>\n",
       "    <tr>\n",
       "      <th>0</th>\n",
       "      <td>39</td>\n",
       "      <td>5</td>\n",
       "      <td>77516</td>\n",
       "      <td>9</td>\n",
       "      <td>13</td>\n",
       "      <td>4</td>\n",
       "      <td>0</td>\n",
       "      <td>1</td>\n",
       "      <td>4</td>\n",
       "      <td>1</td>\n",
       "      <td>40</td>\n",
       "      <td>38</td>\n",
       "      <td>0</td>\n",
       "    </tr>\n",
       "    <tr>\n",
       "      <th>1</th>\n",
       "      <td>50</td>\n",
       "      <td>4</td>\n",
       "      <td>83311</td>\n",
       "      <td>9</td>\n",
       "      <td>13</td>\n",
       "      <td>2</td>\n",
       "      <td>3</td>\n",
       "      <td>0</td>\n",
       "      <td>4</td>\n",
       "      <td>1</td>\n",
       "      <td>13</td>\n",
       "      <td>38</td>\n",
       "      <td>0</td>\n",
       "    </tr>\n",
       "    <tr>\n",
       "      <th>2</th>\n",
       "      <td>38</td>\n",
       "      <td>2</td>\n",
       "      <td>215646</td>\n",
       "      <td>11</td>\n",
       "      <td>9</td>\n",
       "      <td>0</td>\n",
       "      <td>5</td>\n",
       "      <td>1</td>\n",
       "      <td>4</td>\n",
       "      <td>1</td>\n",
       "      <td>40</td>\n",
       "      <td>38</td>\n",
       "      <td>0</td>\n",
       "    </tr>\n",
       "    <tr>\n",
       "      <th>3</th>\n",
       "      <td>53</td>\n",
       "      <td>2</td>\n",
       "      <td>234721</td>\n",
       "      <td>1</td>\n",
       "      <td>7</td>\n",
       "      <td>2</td>\n",
       "      <td>5</td>\n",
       "      <td>0</td>\n",
       "      <td>2</td>\n",
       "      <td>1</td>\n",
       "      <td>40</td>\n",
       "      <td>38</td>\n",
       "      <td>0</td>\n",
       "    </tr>\n",
       "    <tr>\n",
       "      <th>4</th>\n",
       "      <td>28</td>\n",
       "      <td>2</td>\n",
       "      <td>338409</td>\n",
       "      <td>9</td>\n",
       "      <td>13</td>\n",
       "      <td>2</td>\n",
       "      <td>9</td>\n",
       "      <td>5</td>\n",
       "      <td>2</td>\n",
       "      <td>0</td>\n",
       "      <td>40</td>\n",
       "      <td>4</td>\n",
       "      <td>0</td>\n",
       "    </tr>\n",
       "  </tbody>\n",
       "</table>\n",
       "</div>"
      ],
      "text/plain": [
       "   age  workclass  fnlwgt  education  edu-num  marital_status  occupation  \\\n",
       "0   39          5   77516          9       13               4           0   \n",
       "1   50          4   83311          9       13               2           3   \n",
       "2   38          2  215646         11        9               0           5   \n",
       "3   53          2  234721          1        7               2           5   \n",
       "4   28          2  338409          9       13               2           9   \n",
       "\n",
       "   relationship  race  sex  hours_per_week  native_country  salary  \n",
       "0             1     4    1              40              38       0  \n",
       "1             0     4    1              13              38       0  \n",
       "2             1     4    1              40              38       0  \n",
       "3             0     2    1              40              38       0  \n",
       "4             5     2    0              40               4       0  "
      ]
     },
     "execution_count": 190,
     "metadata": {},
     "output_type": "execute_result"
    }
   ],
   "source": [
    "df = pd.read_csv(r'C:\\Users\\nidhi\\AML_1104_2_LABs\\cleaned_Numeric_adult-data.csv')\n",
    "df.head(5)"
   ]
  },
  {
   "cell_type": "markdown",
   "metadata": {},
   "source": [
    "## Normalizing Data"
   ]
  },
  {
   "cell_type": "code",
   "execution_count": 192,
   "metadata": {},
   "outputs": [],
   "source": [
    "scaler = StandardScaler() "
   ]
  },
  {
   "cell_type": "code",
   "execution_count": 193,
   "metadata": {},
   "outputs": [],
   "source": [
    "df_scaled = StandardScaler().fit_transform(df)"
   ]
  },
  {
   "cell_type": "markdown",
   "metadata": {},
   "source": [
    "## Principle Component Analysis "
   ]
  },
  {
   "cell_type": "code",
   "execution_count": 195,
   "metadata": {},
   "outputs": [
    {
     "data": {
      "text/plain": [
       "PCA(n_components=13)"
      ]
     },
     "execution_count": 195,
     "metadata": {},
     "output_type": "execute_result"
    }
   ],
   "source": [
    "pca = PCA(n_components=df_scaled.shape[1])\n",
    "pca.fit(df_scaled)"
   ]
  },
  {
   "cell_type": "code",
   "execution_count": 196,
   "metadata": {},
   "outputs": [
    {
     "data": {
      "text/plain": [
       "array([2.30374697, 1.43026181, 1.14805508, 1.11952183, 1.01869048,\n",
       "       0.98309565, 0.94206219, 0.85087583, 0.83510627, 0.78984082,\n",
       "       0.66989664, 0.53015497, 0.37912249])"
      ]
     },
     "execution_count": 196,
     "metadata": {},
     "output_type": "execute_result"
    }
   ],
   "source": [
    "pca.explained_variance_"
   ]
  },
  {
   "cell_type": "code",
   "execution_count": 197,
   "metadata": {},
   "outputs": [
    {
     "data": {
      "text/plain": [
       "13.000431020191632"
      ]
     },
     "execution_count": 197,
     "metadata": {},
     "output_type": "execute_result"
    }
   ],
   "source": [
    "sum(pca.explained_variance_)"
   ]
  },
  {
   "cell_type": "code",
   "execution_count": 198,
   "metadata": {},
   "outputs": [
    {
     "data": {
      "text/plain": [
       "array([0.17720543, 0.11001649, 0.088309  , 0.08611421, 0.07835821,\n",
       "       0.07562024, 0.07246392, 0.06544982, 0.06423681, 0.06075497,\n",
       "       0.0515288 , 0.0407798 , 0.0291623 ])"
      ]
     },
     "execution_count": 198,
     "metadata": {},
     "output_type": "execute_result"
    }
   ],
   "source": [
    "pca.explained_variance_ratio_"
   ]
  },
  {
   "cell_type": "code",
   "execution_count": 199,
   "metadata": {},
   "outputs": [
    {
     "data": {
      "text/plain": [
       "array([ 17.721,  28.723,  37.554,  46.165,  54.001,  61.563,  68.809,\n",
       "        75.354,  81.778,  87.853,  93.006,  97.084, 100.   ])"
      ]
     },
     "execution_count": 199,
     "metadata": {},
     "output_type": "execute_result"
    }
   ],
   "source": [
    "np.cumsum(np.round(pca.explained_variance_ratio_, decimals=5)*100)"
   ]
  },
  {
   "cell_type": "code",
   "execution_count": 200,
   "metadata": {},
   "outputs": [
    {
     "data": {
      "image/png": "[encoded data removed]",
      "text/plain": [
       "<Figure size 432x288 with 1 Axes>"
      ]
     },
     "metadata": {
      "needs_background": "light"
     },
     "output_type": "display_data"
    }
   ],
   "source": [
    "plt.plot(np.cumsum(pca.explained_variance_ratio_))\n",
    "plt.xlabel('number of components')\n",
    "plt.ylabel('cumulative explained variance')\n",
    "plt.show()"
   ]
  },
  {
   "cell_type": "code",
   "execution_count": 201,
   "metadata": {},
   "outputs": [
    {
     "data": {
      "text/plain": [
       "PCA(n_components=9)"
      ]
     },
     "execution_count": 201,
     "metadata": {},
     "output_type": "execute_result"
    }
   ],
   "source": [
    "pca_final = PCA(n_components=9)\n",
    "pca_final.fit(df_scaled)"
   ]
  },
  {
   "cell_type": "code",
   "execution_count": 202,
   "metadata": {},
   "outputs": [
    {
     "data": {
      "text/plain": [
       "array([2.30374697, 1.43026181, 1.14805508, 1.11952183, 1.01869048,\n",
       "       0.98309565, 0.94206219, 0.85087583, 0.83510627])"
      ]
     },
     "execution_count": 202,
     "metadata": {},
     "output_type": "execute_result"
    }
   ],
   "source": [
    "pca_final.explained_variance_"
   ]
  },
  {
   "cell_type": "code",
   "execution_count": 203,
   "metadata": {},
   "outputs": [],
   "source": [
    "dimensions = pd.DataFrame(pca_final.fit_transform(df_scaled), columns=['C1', 'C2', 'C3', 'C4', 'C5', 'C6', 'C7', 'C8', 'C9'])"
   ]
  },
  {
   "cell_type": "code",
   "execution_count": 204,
   "metadata": {},
   "outputs": [
    {
     "data": {
      "text/html": [
       "<div>\n",
       "<style scoped>\n",
       "    .dataframe tbody tr th:only-of-type {\n",
       "        vertical-align: middle;\n",
       "    }\n",
       "\n",
       "    .dataframe tbody tr th {\n",
       "        vertical-align: top;\n",
       "    }\n",
       "\n",
       "    .dataframe thead th {\n",
       "        text-align: right;\n",
       "    }\n",
       "</style>\n",
       "<table border=\"1\" class=\"dataframe\">\n",
       "  <thead>\n",
       "    <tr style=\"text-align: right;\">\n",
       "      <th></th>\n",
       "      <th>C1</th>\n",
       "      <th>C2</th>\n",
       "      <th>C3</th>\n",
       "      <th>C4</th>\n",
       "      <th>C5</th>\n",
       "      <th>C6</th>\n",
       "      <th>C7</th>\n",
       "      <th>C8</th>\n",
       "      <th>C9</th>\n",
       "    </tr>\n",
       "  </thead>\n",
       "  <tbody>\n",
       "    <tr>\n",
       "      <th>0</th>\n",
       "      <td>0.462790</td>\n",
       "      <td>-0.194086</td>\n",
       "      <td>-0.504512</td>\n",
       "      <td>-1.456253</td>\n",
       "      <td>-0.968796</td>\n",
       "      <td>2.897958</td>\n",
       "      <td>-0.510716</td>\n",
       "      <td>0.106620</td>\n",
       "      <td>-0.368293</td>\n",
       "    </tr>\n",
       "    <tr>\n",
       "      <th>1</th>\n",
       "      <td>0.557754</td>\n",
       "      <td>0.051422</td>\n",
       "      <td>-1.199835</td>\n",
       "      <td>-1.138730</td>\n",
       "      <td>-1.099792</td>\n",
       "      <td>1.389478</td>\n",
       "      <td>0.139367</td>\n",
       "      <td>-0.607305</td>\n",
       "      <td>-2.130708</td>\n",
       "    </tr>\n",
       "    <tr>\n",
       "      <th>2</th>\n",
       "      <td>0.591313</td>\n",
       "      <td>0.578397</td>\n",
       "      <td>-0.607083</td>\n",
       "      <td>-0.353798</td>\n",
       "      <td>0.787352</td>\n",
       "      <td>-0.122224</td>\n",
       "      <td>0.278813</td>\n",
       "      <td>-0.257359</td>\n",
       "      <td>0.339739</td>\n",
       "    </tr>\n",
       "    <tr>\n",
       "      <th>3</th>\n",
       "      <td>-0.050829</td>\n",
       "      <td>2.803607</td>\n",
       "      <td>-0.789181</td>\n",
       "      <td>0.960751</td>\n",
       "      <td>-0.191901</td>\n",
       "      <td>-0.496414</td>\n",
       "      <td>-0.391688</td>\n",
       "      <td>-1.936438</td>\n",
       "      <td>0.348291</td>\n",
       "    </tr>\n",
       "    <tr>\n",
       "      <th>4</th>\n",
       "      <td>-2.453430</td>\n",
       "      <td>-0.028365</td>\n",
       "      <td>0.945545</td>\n",
       "      <td>5.143972</td>\n",
       "      <td>-0.871693</td>\n",
       "      <td>0.802648</td>\n",
       "      <td>0.908270</td>\n",
       "      <td>2.486500</td>\n",
       "      <td>0.424501</td>\n",
       "    </tr>\n",
       "    <tr>\n",
       "      <th>5</th>\n",
       "      <td>-1.431791</td>\n",
       "      <td>-2.150122</td>\n",
       "      <td>-0.579336</td>\n",
       "      <td>0.341936</td>\n",
       "      <td>0.892530</td>\n",
       "      <td>0.100373</td>\n",
       "      <td>1.269283</td>\n",
       "      <td>0.385570</td>\n",
       "      <td>0.642128</td>\n",
       "    </tr>\n",
       "    <tr>\n",
       "      <th>6</th>\n",
       "      <td>-2.366004</td>\n",
       "      <td>2.090560</td>\n",
       "      <td>-1.134823</td>\n",
       "      <td>2.372418</td>\n",
       "      <td>-1.264672</td>\n",
       "      <td>-0.138960</td>\n",
       "      <td>-0.280522</td>\n",
       "      <td>-0.190259</td>\n",
       "      <td>-1.525194</td>\n",
       "    </tr>\n",
       "    <tr>\n",
       "      <th>7</th>\n",
       "      <td>2.102470</td>\n",
       "      <td>0.439887</td>\n",
       "      <td>-0.809795</td>\n",
       "      <td>-0.269919</td>\n",
       "      <td>-0.118187</td>\n",
       "      <td>1.398684</td>\n",
       "      <td>0.730519</td>\n",
       "      <td>-0.274930</td>\n",
       "      <td>-0.375007</td>\n",
       "    </tr>\n",
       "    <tr>\n",
       "      <th>8</th>\n",
       "      <td>0.665161</td>\n",
       "      <td>-2.216553</td>\n",
       "      <td>0.528765</td>\n",
       "      <td>-0.130778</td>\n",
       "      <td>-0.990570</td>\n",
       "      <td>-0.810428</td>\n",
       "      <td>-0.629593</td>\n",
       "      <td>1.085106</td>\n",
       "      <td>0.181532</td>\n",
       "    </tr>\n",
       "    <tr>\n",
       "      <th>9</th>\n",
       "      <td>1.853548</td>\n",
       "      <td>-0.351194</td>\n",
       "      <td>-0.133071</td>\n",
       "      <td>-0.039610</td>\n",
       "      <td>0.537410</td>\n",
       "      <td>-0.336945</td>\n",
       "      <td>-0.171948</td>\n",
       "      <td>0.170847</td>\n",
       "      <td>-0.723338</td>\n",
       "    </tr>\n",
       "  </tbody>\n",
       "</table>\n",
       "</div>"
      ],
      "text/plain": [
       "         C1        C2        C3        C4        C5        C6        C7  \\\n",
       "0  0.462790 -0.194086 -0.504512 -1.456253 -0.968796  2.897958 -0.510716   \n",
       "1  0.557754  0.051422 -1.199835 -1.138730 -1.099792  1.389478  0.139367   \n",
       "2  0.591313  0.578397 -0.607083 -0.353798  0.787352 -0.122224  0.278813   \n",
       "3 -0.050829  2.803607 -0.789181  0.960751 -0.191901 -0.496414 -0.391688   \n",
       "4 -2.453430 -0.028365  0.945545  5.143972 -0.871693  0.802648  0.908270   \n",
       "5 -1.431791 -2.150122 -0.579336  0.341936  0.892530  0.100373  1.269283   \n",
       "6 -2.366004  2.090560 -1.134823  2.372418 -1.264672 -0.138960 -0.280522   \n",
       "7  2.102470  0.439887 -0.809795 -0.269919 -0.118187  1.398684  0.730519   \n",
       "8  0.665161 -2.216553  0.528765 -0.130778 -0.990570 -0.810428 -0.629593   \n",
       "9  1.853548 -0.351194 -0.133071 -0.039610  0.537410 -0.336945 -0.171948   \n",
       "\n",
       "         C8        C9  \n",
       "0  0.106620 -0.368293  \n",
       "1 -0.607305 -2.130708  \n",
       "2 -0.257359  0.339739  \n",
       "3 -1.936438  0.348291  \n",
       "4  2.486500  0.424501  \n",
       "5  0.385570  0.642128  \n",
       "6 -0.190259 -1.525194  \n",
       "7 -0.274930 -0.375007  \n",
       "8  1.085106  0.181532  \n",
       "9  0.170847 -0.723338  "
      ]
     },
     "execution_count": 204,
     "metadata": {},
     "output_type": "execute_result"
    }
   ],
   "source": [
    "dimensions.head(10)"
   ]
  },
  {
   "cell_type": "code",
   "execution_count": 205,
   "metadata": {},
   "outputs": [],
   "source": [
    "loadings = pd.DataFrame((pca_final.components_.T * np.sqrt(pca_final.explained_variance_)).T, columns=df.columns).T\n",
    "loadings.columns = ['Factor 1', 'Factor 2', 'Factor 3', 'Factor 4', 'Factor 5', 'Factor 6', 'Factor 7', 'Factor 8', 'Factor 9']"
   ]
  },
  {
   "cell_type": "code",
   "execution_count": 206,
   "metadata": {},
   "outputs": [],
   "source": [
    "loadings.to_excel('Factor Loadings_Adult.xlsx')"
   ]
  },
  {
   "cell_type": "code",
   "execution_count": 207,
   "metadata": {},
   "outputs": [],
   "source": [
    "# Selecting list variables from PCA based on Factor Loadings\n",
    "pca_vars = ['workclass', 'fnlwgt', 'edu-num', 'race', 'sex', 'hours_per_week', 'salary']"
   ]
  },
  {
   "cell_type": "code",
   "execution_count": 208,
   "metadata": {},
   "outputs": [],
   "source": [
    "df_pca = pd.DataFrame(df_scaled, columns=df.columns)[pca_vars]"
   ]
  },
  {
   "cell_type": "code",
   "execution_count": 209,
   "metadata": {},
   "outputs": [
    {
     "data": {
      "text/html": [
       "<div>\n",
       "<style scoped>\n",
       "    .dataframe tbody tr th:only-of-type {\n",
       "        vertical-align: middle;\n",
       "    }\n",
       "\n",
       "    .dataframe tbody tr th {\n",
       "        vertical-align: top;\n",
       "    }\n",
       "\n",
       "    .dataframe thead th {\n",
       "        text-align: right;\n",
       "    }\n",
       "</style>\n",
       "<table border=\"1\" class=\"dataframe\">\n",
       "  <thead>\n",
       "    <tr style=\"text-align: right;\">\n",
       "      <th></th>\n",
       "      <th>workclass</th>\n",
       "      <th>fnlwgt</th>\n",
       "      <th>edu-num</th>\n",
       "      <th>race</th>\n",
       "      <th>sex</th>\n",
       "      <th>hours_per_week</th>\n",
       "      <th>salary</th>\n",
       "    </tr>\n",
       "  </thead>\n",
       "  <tbody>\n",
       "    <tr>\n",
       "      <th>0</th>\n",
       "      <td>2.936000</td>\n",
       "      <td>-1.062722</td>\n",
       "      <td>1.128918</td>\n",
       "      <td>0.385048</td>\n",
       "      <td>0.692806</td>\n",
       "      <td>-0.077734</td>\n",
       "      <td>-0.575691</td>\n",
       "    </tr>\n",
       "    <tr>\n",
       "      <th>1</th>\n",
       "      <td>1.887682</td>\n",
       "      <td>-1.007871</td>\n",
       "      <td>1.128918</td>\n",
       "      <td>0.385048</td>\n",
       "      <td>0.692806</td>\n",
       "      <td>-2.331531</td>\n",
       "      <td>-0.575691</td>\n",
       "    </tr>\n",
       "    <tr>\n",
       "      <th>2</th>\n",
       "      <td>-0.208955</td>\n",
       "      <td>0.244693</td>\n",
       "      <td>-0.439738</td>\n",
       "      <td>0.385048</td>\n",
       "      <td>0.692806</td>\n",
       "      <td>-0.077734</td>\n",
       "      <td>-0.575691</td>\n",
       "    </tr>\n",
       "    <tr>\n",
       "      <th>3</th>\n",
       "      <td>-0.208955</td>\n",
       "      <td>0.425240</td>\n",
       "      <td>-1.224066</td>\n",
       "      <td>-2.011035</td>\n",
       "      <td>0.692806</td>\n",
       "      <td>-0.077734</td>\n",
       "      <td>-0.575691</td>\n",
       "    </tr>\n",
       "    <tr>\n",
       "      <th>4</th>\n",
       "      <td>-0.208955</td>\n",
       "      <td>1.406658</td>\n",
       "      <td>1.128918</td>\n",
       "      <td>-2.011035</td>\n",
       "      <td>-1.443405</td>\n",
       "      <td>-0.077734</td>\n",
       "      <td>-0.575691</td>\n",
       "    </tr>\n",
       "    <tr>\n",
       "      <th>5</th>\n",
       "      <td>-0.208955</td>\n",
       "      <td>0.897180</td>\n",
       "      <td>1.521083</td>\n",
       "      <td>0.385048</td>\n",
       "      <td>-1.443405</td>\n",
       "      <td>-0.077734</td>\n",
       "      <td>-0.575691</td>\n",
       "    </tr>\n",
       "    <tr>\n",
       "      <th>6</th>\n",
       "      <td>-0.208955</td>\n",
       "      <td>-0.280232</td>\n",
       "      <td>-2.008395</td>\n",
       "      <td>-2.011035</td>\n",
       "      <td>-1.443405</td>\n",
       "      <td>-2.081109</td>\n",
       "      <td>-0.575691</td>\n",
       "    </tr>\n",
       "    <tr>\n",
       "      <th>7</th>\n",
       "      <td>1.887682</td>\n",
       "      <td>0.187865</td>\n",
       "      <td>-0.439738</td>\n",
       "      <td>0.385048</td>\n",
       "      <td>0.692806</td>\n",
       "      <td>0.339636</td>\n",
       "      <td>1.737042</td>\n",
       "    </tr>\n",
       "    <tr>\n",
       "      <th>8</th>\n",
       "      <td>-0.208955</td>\n",
       "      <td>-1.363097</td>\n",
       "      <td>1.521083</td>\n",
       "      <td>0.385048</td>\n",
       "      <td>-1.443405</td>\n",
       "      <td>0.757005</td>\n",
       "      <td>1.737042</td>\n",
       "    </tr>\n",
       "    <tr>\n",
       "      <th>9</th>\n",
       "      <td>-0.208955</td>\n",
       "      <td>-0.287217</td>\n",
       "      <td>1.128918</td>\n",
       "      <td>0.385048</td>\n",
       "      <td>0.692806</td>\n",
       "      <td>-0.077734</td>\n",
       "      <td>1.737042</td>\n",
       "    </tr>\n",
       "  </tbody>\n",
       "</table>\n",
       "</div>"
      ],
      "text/plain": [
       "   workclass    fnlwgt   edu-num      race       sex  hours_per_week    salary\n",
       "0   2.936000 -1.062722  1.128918  0.385048  0.692806       -0.077734 -0.575691\n",
       "1   1.887682 -1.007871  1.128918  0.385048  0.692806       -2.331531 -0.575691\n",
       "2  -0.208955  0.244693 -0.439738  0.385048  0.692806       -0.077734 -0.575691\n",
       "3  -0.208955  0.425240 -1.224066 -2.011035  0.692806       -0.077734 -0.575691\n",
       "4  -0.208955  1.406658  1.128918 -2.011035 -1.443405       -0.077734 -0.575691\n",
       "5  -0.208955  0.897180  1.521083  0.385048 -1.443405       -0.077734 -0.575691\n",
       "6  -0.208955 -0.280232 -2.008395 -2.011035 -1.443405       -2.081109 -0.575691\n",
       "7   1.887682  0.187865 -0.439738  0.385048  0.692806        0.339636  1.737042\n",
       "8  -0.208955 -1.363097  1.521083  0.385048 -1.443405        0.757005  1.737042\n",
       "9  -0.208955 -0.287217  1.128918  0.385048  0.692806       -0.077734  1.737042"
      ]
     },
     "execution_count": 209,
     "metadata": {},
     "output_type": "execute_result"
    }
   ],
   "source": [
    "df_pca.head(10)"
   ]
  },
  {
   "cell_type": "markdown",
   "metadata": {},
   "source": [
    "## K- Means"
   ]
  },
  {
   "cell_type": "code",
   "execution_count": 211,
   "metadata": {},
   "outputs": [],
   "source": [
    "km_2 = KMeans(n_clusters=2, random_state=17).fit(df_pca)\n",
    "km_3 = KMeans(n_clusters=3, random_state=17).fit(df_pca)\n",
    "km_4 = KMeans(n_clusters=4, random_state=17).fit(df_pca)\n",
    "km_5 = KMeans(n_clusters=5, random_state=17).fit(df_pca)\n",
    "km_6 = KMeans(n_clusters=6, random_state=17).fit(df_pca)\n",
    "km_7 = KMeans(n_clusters=7, random_state=17).fit(df_pca)\n",
    "km_8 = KMeans(n_clusters=8, random_state=17).fit(df_pca)\n",
    "km_9 = KMeans(n_clusters=9, random_state=17).fit(df_pca)\n",
    "km_10 = KMeans(n_clusters=10, random_state=17).fit(df_pca)"
   ]
  },
  {
   "cell_type": "code",
   "execution_count": 212,
   "metadata": {},
   "outputs": [],
   "source": [
    "df['CLUSTER_2'] = km_2.labels_\n",
    "df['CLUSTER_3'] = km_3.labels_\n",
    "df['CLUSTER_4'] = km_4.labels_\n",
    "df['CLUSTER_5'] = km_5.labels_\n",
    "df['CLUSTER_6'] = km_6.labels_\n",
    "df['CLUSTER_7'] = km_7.labels_\n",
    "df['CLUSTER_8'] = km_8.labels_\n",
    "df['CLUSTER_9'] = km_9.labels_"
   ]
  },
  {
   "cell_type": "code",
   "execution_count": 213,
   "metadata": {},
   "outputs": [
    {
     "data": {
      "text/html": [
       "<div>\n",
       "<style scoped>\n",
       "    .dataframe tbody tr th:only-of-type {\n",
       "        vertical-align: middle;\n",
       "    }\n",
       "\n",
       "    .dataframe tbody tr th {\n",
       "        vertical-align: top;\n",
       "    }\n",
       "\n",
       "    .dataframe thead th {\n",
       "        text-align: right;\n",
       "    }\n",
       "</style>\n",
       "<table border=\"1\" class=\"dataframe\">\n",
       "  <thead>\n",
       "    <tr style=\"text-align: right;\">\n",
       "      <th></th>\n",
       "      <th>workclass</th>\n",
       "      <th>fnlwgt</th>\n",
       "      <th>edu-num</th>\n",
       "      <th>race</th>\n",
       "      <th>sex</th>\n",
       "      <th>hours_per_week</th>\n",
       "      <th>salary</th>\n",
       "    </tr>\n",
       "  </thead>\n",
       "  <tbody>\n",
       "    <tr>\n",
       "      <th>0</th>\n",
       "      <td>2.936000</td>\n",
       "      <td>-1.062722</td>\n",
       "      <td>1.128918</td>\n",
       "      <td>0.385048</td>\n",
       "      <td>0.692806</td>\n",
       "      <td>-0.077734</td>\n",
       "      <td>-0.575691</td>\n",
       "    </tr>\n",
       "    <tr>\n",
       "      <th>1</th>\n",
       "      <td>1.887682</td>\n",
       "      <td>-1.007871</td>\n",
       "      <td>1.128918</td>\n",
       "      <td>0.385048</td>\n",
       "      <td>0.692806</td>\n",
       "      <td>-2.331531</td>\n",
       "      <td>-0.575691</td>\n",
       "    </tr>\n",
       "    <tr>\n",
       "      <th>2</th>\n",
       "      <td>-0.208955</td>\n",
       "      <td>0.244693</td>\n",
       "      <td>-0.439738</td>\n",
       "      <td>0.385048</td>\n",
       "      <td>0.692806</td>\n",
       "      <td>-0.077734</td>\n",
       "      <td>-0.575691</td>\n",
       "    </tr>\n",
       "    <tr>\n",
       "      <th>3</th>\n",
       "      <td>-0.208955</td>\n",
       "      <td>0.425240</td>\n",
       "      <td>-1.224066</td>\n",
       "      <td>-2.011035</td>\n",
       "      <td>0.692806</td>\n",
       "      <td>-0.077734</td>\n",
       "      <td>-0.575691</td>\n",
       "    </tr>\n",
       "    <tr>\n",
       "      <th>4</th>\n",
       "      <td>-0.208955</td>\n",
       "      <td>1.406658</td>\n",
       "      <td>1.128918</td>\n",
       "      <td>-2.011035</td>\n",
       "      <td>-1.443405</td>\n",
       "      <td>-0.077734</td>\n",
       "      <td>-0.575691</td>\n",
       "    </tr>\n",
       "    <tr>\n",
       "      <th>5</th>\n",
       "      <td>-0.208955</td>\n",
       "      <td>0.897180</td>\n",
       "      <td>1.521083</td>\n",
       "      <td>0.385048</td>\n",
       "      <td>-1.443405</td>\n",
       "      <td>-0.077734</td>\n",
       "      <td>-0.575691</td>\n",
       "    </tr>\n",
       "    <tr>\n",
       "      <th>6</th>\n",
       "      <td>-0.208955</td>\n",
       "      <td>-0.280232</td>\n",
       "      <td>-2.008395</td>\n",
       "      <td>-2.011035</td>\n",
       "      <td>-1.443405</td>\n",
       "      <td>-2.081109</td>\n",
       "      <td>-0.575691</td>\n",
       "    </tr>\n",
       "    <tr>\n",
       "      <th>7</th>\n",
       "      <td>1.887682</td>\n",
       "      <td>0.187865</td>\n",
       "      <td>-0.439738</td>\n",
       "      <td>0.385048</td>\n",
       "      <td>0.692806</td>\n",
       "      <td>0.339636</td>\n",
       "      <td>1.737042</td>\n",
       "    </tr>\n",
       "    <tr>\n",
       "      <th>8</th>\n",
       "      <td>-0.208955</td>\n",
       "      <td>-1.363097</td>\n",
       "      <td>1.521083</td>\n",
       "      <td>0.385048</td>\n",
       "      <td>-1.443405</td>\n",
       "      <td>0.757005</td>\n",
       "      <td>1.737042</td>\n",
       "    </tr>\n",
       "    <tr>\n",
       "      <th>9</th>\n",
       "      <td>-0.208955</td>\n",
       "      <td>-0.287217</td>\n",
       "      <td>1.128918</td>\n",
       "      <td>0.385048</td>\n",
       "      <td>0.692806</td>\n",
       "      <td>-0.077734</td>\n",
       "      <td>1.737042</td>\n",
       "    </tr>\n",
       "  </tbody>\n",
       "</table>\n",
       "</div>"
      ],
      "text/plain": [
       "   workclass    fnlwgt   edu-num      race       sex  hours_per_week    salary\n",
       "0   2.936000 -1.062722  1.128918  0.385048  0.692806       -0.077734 -0.575691\n",
       "1   1.887682 -1.007871  1.128918  0.385048  0.692806       -2.331531 -0.575691\n",
       "2  -0.208955  0.244693 -0.439738  0.385048  0.692806       -0.077734 -0.575691\n",
       "3  -0.208955  0.425240 -1.224066 -2.011035  0.692806       -0.077734 -0.575691\n",
       "4  -0.208955  1.406658  1.128918 -2.011035 -1.443405       -0.077734 -0.575691\n",
       "5  -0.208955  0.897180  1.521083  0.385048 -1.443405       -0.077734 -0.575691\n",
       "6  -0.208955 -0.280232 -2.008395 -2.011035 -1.443405       -2.081109 -0.575691\n",
       "7   1.887682  0.187865 -0.439738  0.385048  0.692806        0.339636  1.737042\n",
       "8  -0.208955 -1.363097  1.521083  0.385048 -1.443405        0.757005  1.737042\n",
       "9  -0.208955 -0.287217  1.128918  0.385048  0.692806       -0.077734  1.737042"
      ]
     },
     "execution_count": 213,
     "metadata": {},
     "output_type": "execute_result"
    }
   ],
   "source": [
    "df_pca.head(10)"
   ]
  },
  {
   "cell_type": "code",
   "execution_count": 214,
   "metadata": {},
   "outputs": [
    {
     "name": "stdout",
     "output_type": "stream",
     "text": [
      "0    0.748226\n",
      "1    0.251774\n",
      "dtype: float64 \n",
      "\n",
      "2    0.463398\n",
      "1    0.291559\n",
      "0    0.245043\n",
      "dtype: float64 \n",
      "\n",
      "1    0.407732\n",
      "2    0.236025\n",
      "3    0.227803\n",
      "0    0.128440\n",
      "dtype: float64 \n",
      "\n",
      "4    0.344672\n",
      "2    0.218421\n",
      "1    0.197301\n",
      "0    0.122074\n",
      "3    0.117532\n",
      "dtype: float64 \n",
      "\n",
      "0    0.285989\n",
      "1    0.207778\n",
      "2    0.192394\n",
      "5    0.115377\n",
      "3    0.114349\n",
      "4    0.084112\n",
      "dtype: float64 \n",
      "\n",
      "3    0.248956\n",
      "6    0.200020\n",
      "2    0.189112\n",
      "0    0.113620\n",
      "1    0.107917\n",
      "5    0.071912\n",
      "4    0.068464\n",
      "dtype: float64 \n",
      "\n",
      "3    0.233473\n",
      "1    0.189178\n",
      "5    0.157019\n",
      "6    0.112459\n",
      "7    0.103640\n",
      "2    0.075492\n",
      "0    0.067137\n",
      "4    0.061601\n",
      "dtype: float64 \n",
      "\n",
      "3    0.232710\n",
      "1    0.186095\n",
      "5    0.156952\n",
      "7    0.102380\n",
      "2    0.075028\n",
      "0    0.065480\n",
      "6    0.064253\n",
      "4    0.061203\n",
      "8    0.055898\n",
      "dtype: float64 \n",
      "\n"
     ]
    }
   ],
   "source": [
    "print(pd.Series(km_2.labels_).value_counts()/sum(pd.Series(km_2.labels_).value_counts()), '\\n')\n",
    "print(pd.Series(km_3.labels_).value_counts()/sum(pd.Series(km_3.labels_).value_counts()), '\\n')\n",
    "print(pd.Series(km_4.labels_).value_counts()/sum(pd.Series(km_4.labels_).value_counts()), '\\n')\n",
    "print(pd.Series(km_5.labels_).value_counts()/sum(pd.Series(km_5.labels_).value_counts()), '\\n')\n",
    "print(pd.Series(km_6.labels_).value_counts()/sum(pd.Series(km_6.labels_).value_counts()), '\\n')\n",
    "print(pd.Series(km_7.labels_).value_counts()/sum(pd.Series(km_7.labels_).value_counts()), '\\n')\n",
    "print(pd.Series(km_8.labels_).value_counts()/sum(pd.Series(km_8.labels_).value_counts()), '\\n')\n",
    "print(pd.Series(km_9.labels_).value_counts()/sum(pd.Series(km_9.labels_).value_counts()), '\\n')"
   ]
  },
  {
   "cell_type": "markdown",
   "metadata": {},
   "source": [
    "## Elbow Analysis"
   ]
  },
  {
   "cell_type": "code",
   "execution_count": 219,
   "metadata": {},
   "outputs": [],
   "source": [
    "# Calculating the values of the Distortion and Inertia\n",
    "distortions = [] \n",
    "inertias = [] \n",
    "mapping1 = {} \n",
    "mapping2 = {} \n",
    "k_range = range(2, 11) \n",
    "\n",
    "for k in k_range: \n",
    "    km = KMeans(n_clusters=k)\n",
    "    km.fit(df_pca) \n",
    "    \n",
    "    distortions.append(sum(np.min(cdist(df_pca, km.cluster_centers_, 'euclidean'), axis=1)) / df_pca.shape[0]) \n",
    "    inertias.append(km.inertia_) \n",
    "\n",
    "    mapping1[k] = sum(np.min(cdist(df_pca, km.cluster_centers_, 'euclidean'), axis=1)) / df_pca.shape[0] \n",
    "    mapping2[k] = km.inertia_ "
   ]
  },
  {
   "cell_type": "code",
   "execution_count": 220,
   "metadata": {},
   "outputs": [
    {
     "name": "stdout",
     "output_type": "stream",
     "text": [
      "2: 2.213990096919231\n",
      "3: 1.9748740038971824\n",
      "4: 1.8282171926661404\n",
      "5: 1.7321578885590323\n",
      "6: 1.673728619078618\n",
      "7: 1.6341149471844285\n",
      "8: 1.602547651066448\n",
      "9: 1.5615717204863306\n",
      "10: 1.5236588825587785\n"
     ]
    }
   ],
   "source": [
    "for key, val in mapping1.items(): \n",
    "    print(str(key) + ':', val)"
   ]
  },
  {
   "cell_type": "code",
   "execution_count": 221,
   "metadata": {},
   "outputs": [
    {
     "data": {
      "image/png": "[encoded data removed]",
      "text/plain": [
       "<Figure size 880x550 with 1 Axes>"
      ]
     },
     "metadata": {
      "needs_background": "light"
     },
     "output_type": "display_data"
    }
   ],
   "source": [
    "plt.figure(figsize=(8,5), dpi=110)\n",
    "plt.plot(k_range, distortions, 'bx-') \n",
    "plt.xlabel('Clusters') \n",
    "plt.ylabel('Distortion') \n",
    "plt.title('The Elbow Method using Distortion') \n",
    "plt.show() "
   ]
  },
  {
   "cell_type": "code",
   "execution_count": 222,
   "metadata": {},
   "outputs": [
    {
     "name": "stdout",
     "output_type": "stream",
     "text": [
      "2: 174329.1671266226\n",
      "3: 148520.24618007054\n",
      "4: 128275.84604440634\n",
      "5: 115163.58151550237\n",
      "6: 107132.47752706731\n",
      "7: 101242.26673326752\n",
      "8: 95910.98928273076\n",
      "9: 92794.39298825414\n",
      "10: 88645.03822120927\n"
     ]
    }
   ],
   "source": [
    "for key, val in mapping2.items(): \n",
    "    print(str(key) + ':', val) "
   ]
  },
  {
   "cell_type": "code",
   "execution_count": 223,
   "metadata": {},
   "outputs": [
    {
     "data": {
      "image/png": "[encoded data removed]",
      "text/plain": [
       "<Figure size 880x550 with 1 Axes>"
      ]
     },
     "metadata": {
      "needs_background": "light"
     },
     "output_type": "display_data"
    }
   ],
   "source": [
    "plt.figure(figsize=(8,5), dpi=110)\n",
    "plt.plot(k_range, inertias, 'bx-') \n",
    "plt.xlabel('Clusters') \n",
    "plt.ylabel('Inertia') \n",
    "plt.title('The Elbow Method using Inertia') \n",
    "plt.show() "
   ]
  }
 ],
 "metadata": {
  "kernelspec": {
   "display_name": "Python 3",
   "language": "python",
   "name": "python3"
  },
  "language_info": {
   "codemirror_mode": {
    "name": "ipython",
    "version": 3
   },
   "file_extension": ".py",
   "mimetype": "text/x-python",
   "name": "python",
   "nbconvert_exporter": "python",
   "pygments_lexer": "ipython3",
   "version": "3.7.7"
  }
 },
 "nbformat": 4,
 "nbformat_minor": 4
}
